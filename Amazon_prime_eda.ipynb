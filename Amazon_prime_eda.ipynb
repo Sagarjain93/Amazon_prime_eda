{
  "nbformat": 4,
  "nbformat_minor": 0,
  "metadata": {
    "colab": {
      "private_outputs": true,
      "provenance": [],
      "collapsed_sections": [
        "vncDsAP0Gaoa",
        "FJNUwmbgGyua",
        "w6K7xa23Elo4",
        "PH-0ReGfmX4f",
        "mDgbUHAGgjLW",
        "HhfV-JJviCcP",
        "H0kj-8xxnORC",
        "nA9Y7ga8ng1Z",
        "dauF4eBmngu3",
        "bKJF3rekwFvQ",
        "0ys7Y6IraQ5I",
        "Fy5fLT-qbDxZ",
        "ft1DaKbNcQzi",
        "m-ZeLY59fP2v",
        "BqRmRgBHfr1b",
        "l7UuF6PHhUq7",
        "MSa1f5Uengrz",
        "3lkGxeF-25iF",
        "0wOQAZs5pc--",
        "lQ7QKXXCp7Bj",
        "KSlN3yHqYklG",
        "EM7whBJCYoAo",
        "4Of9eVA-YrdM",
        "iky9q4vBYrdO",
        "F6T5p64dYrdO",
        "y-Ehk30pYrdP",
        "L_dVAn9a_h-r",
        "bamQiAODYuh1",
        "PIIx-8_IphqN",
        "OH-pJp9IphqM",
        "iNcZ1ckHHtm4",
        "YJ55k-q6phqO",
        "gCFgpxoyphqP",
        "OVtJsKN_phqQ",
        "lssrdh5qphqQ",
        "U2RJ9gkRphqQ",
        "1M8mcRywphqQ",
        "tgIPom80phqQ",
        "JMzcOPDDphqR",
        "x-EpHcCOp1ci",
        "X_VqEhTip1ck",
        "8zGJKyg5p1ck",
        "PVzmfK_Ep1ck",
        "n3dbpmDWp1ck",
        "ylSl6qgtp1ck",
        "ZWILFDl5p1ck",
        "M7G43BXep1ck",
        "Ag9LCva-p1cl",
        "E6MkPsBcp1cl",
        "2cELzS2fp1cl",
        "3MPXvC8up1cl",
        "NC_X3p0fY2L0",
        "UV0SzAkaZNRQ",
        "YPEH6qLeZNRQ",
        "q29F0dvdveiT",
        "EXh0U9oCveiU",
        "22aHeOlLveiV",
        "JcMwzZxoAimU",
        "8G2x9gOozGDZ",
        "gCX9965dhzqZ",
        "gIfDvo9L0UH2"
      ],
      "include_colab_link": true
    },
    "kernelspec": {
      "name": "python3",
      "display_name": "Python 3"
    },
    "language_info": {
      "name": "python"
    }
  },
  "cells": [
    {
      "cell_type": "markdown",
      "metadata": {
        "id": "view-in-github",
        "colab_type": "text"
      },
      "source": [
        "<a href=\"https://colab.research.google.com/github/Sagarjain93/Amazon_prime_eda/blob/main/Amazon_prime_eda.ipynb\" target=\"_parent\"><img src=\"https://colab.research.google.com/assets/colab-badge.svg\" alt=\"Open In Colab\"/></a>"
      ]
    },
    {
      "cell_type": "markdown",
      "source": [
        "# **Amazon Prime Tv Shows and Movies**    \n",
        "\n"
      ],
      "metadata": {
        "id": "vncDsAP0Gaoa"
      }
    },
    {
      "cell_type": "markdown",
      "source": [
        "##### **Project Type**    - EDA\n",
        "##### **Contribution**    - Individual\n",
        "##### **Team Member 1 -** SAGAR JAIN\n",
        "##### **Team Member 2 -**\n",
        "##### **Team Member 3 -**\n",
        "##### **Team Member 4 -**"
      ],
      "metadata": {
        "id": "beRrZCGUAJYm"
      }
    },
    {
      "cell_type": "markdown",
      "source": [
        "# **Project Summary -**"
      ],
      "metadata": {
        "id": "FJNUwmbgGyua"
      }
    },
    {
      "cell_type": "markdown",
      "source": [
        "Write the summary here within 500-600 words."
      ],
      "metadata": {
        "id": "F6v_1wHtG2nS"
      }
    },
    {
      "cell_type": "markdown",
      "source": [
        "# **GitHub Link -**"
      ],
      "metadata": {
        "id": "w6K7xa23Elo4"
      }
    },
    {
      "cell_type": "markdown",
      "source": [
        "https://github.com/Sagarjain93/Amazon_prime_edaProvide"
      ],
      "metadata": {
        "id": "h1o69JH3Eqqn"
      }
    },
    {
      "cell_type": "markdown",
      "source": [
        "# **Problem Statement**\n"
      ],
      "metadata": {
        "id": "yQaldy8SH6Dl"
      }
    },
    {
      "cell_type": "markdown",
      "source": [
        "This project aims to analyze the content catalog of Amazon Prime Video to uncover actionable insights regarding content types, audience targeting, genre preferences, production trends, and user ratings. By performing exploratory data analysis (EDA) on key metadata attributes, the goal is to support strategic decision-making for content acquisition, audience engagement, and platform optimization."
      ],
      "metadata": {
        "id": "DpeJGUA3kjGy"
      }
    },
    {
      "cell_type": "markdown",
      "source": [
        "#### **Define Your Business Objective?**"
      ],
      "metadata": {
        "id": "PH-0ReGfmX4f"
      }
    },
    {
      "cell_type": "markdown",
      "source": [
        "To derive data-driven insights from Amazon Prime Video’s content metadata that can inform strategic decisions around content acquisition, audience segmentation, and platform optimization. By understanding patterns in genres, content types, age certifications, release trends, ratings, and production origins, the objective is to help the business align its offerings with viewer preferences and improve user engagement."
      ],
      "metadata": {
        "id": "PhDvGCAqmjP1"
      }
    },
    {
      "cell_type": "markdown",
      "source": [
        "# **General Guidelines** : -  "
      ],
      "metadata": {
        "id": "mDgbUHAGgjLW"
      }
    },
    {
      "cell_type": "markdown",
      "source": [
        "1.   Well-structured, formatted, and commented code is required.\n",
        "2.   Exception Handling, Production Grade Code & Deployment Ready Code will be a plus. Those students will be awarded some additional credits.\n",
        "     \n",
        "     The additional credits will have advantages over other students during Star Student selection.\n",
        "       \n",
        "             [ Note: - Deployment Ready Code is defined as, the whole .ipynb notebook should be executable in one go\n",
        "                       without a single error logged. ]\n",
        "\n",
        "3.   Each and every logic should have proper comments.\n",
        "4. You may add as many number of charts you want. Make Sure for each and every chart the following format should be answered.\n",
        "        \n",
        "\n",
        "```\n",
        "# Chart visualization code\n",
        "```\n",
        "            \n",
        "\n",
        "*   Why did you pick the specific chart?\n",
        "*   What is/are the insight(s) found from the chart?\n",
        "* Will the gained insights help creating a positive business impact?\n",
        "Are there any insights that lead to negative growth? Justify with specific reason.\n",
        "\n",
        "5. You have to create at least 20 logical & meaningful charts having important insights.\n",
        "\n",
        "\n",
        "[ Hints : - Do the Vizualization in  a structured way while following \"UBM\" Rule.\n",
        "\n",
        "U - Univariate Analysis,\n",
        "\n",
        "B - Bivariate Analysis (Numerical - Categorical, Numerical - Numerical, Categorical - Categorical)\n",
        "\n",
        "M - Multivariate Analysis\n",
        " ]\n",
        "\n",
        "\n",
        "\n"
      ],
      "metadata": {
        "id": "ZrxVaUj-hHfC"
      }
    },
    {
      "cell_type": "markdown",
      "source": [
        "# ***Let's Begin !***"
      ],
      "metadata": {
        "id": "O_i_v8NEhb9l"
      }
    },
    {
      "cell_type": "markdown",
      "source": [
        "## ***1. Know Your Data***"
      ],
      "metadata": {
        "id": "HhfV-JJviCcP"
      }
    },
    {
      "cell_type": "markdown",
      "source": [
        "### **Import Libraries**"
      ],
      "metadata": {
        "id": "Y3lxredqlCYt"
      }
    },
    {
      "cell_type": "code",
      "source": [
        "# Import Libraries\n",
        "\n",
        "#Data Manipulation Libraries\n",
        "import pandas as pd\n",
        "import numpy as np\n",
        "\n",
        "#Data Visualization libraries\n",
        "import matplotlib.pyplot as plt\n",
        "import seaborn as sns\n",
        "\n",
        "#Date time libraries\n",
        "import datetime as dt\n",
        "from datetime import datetime\n",
        "\n",
        "#Set consistant theme for plots\n",
        "sns.set_theme(style='whitegrid')"
      ],
      "metadata": {
        "id": "M8Vqi-pPk-HR"
      },
      "execution_count": null,
      "outputs": []
    },
    {
      "cell_type": "markdown",
      "source": [
        "### **Dataset Loading**"
      ],
      "metadata": {
        "id": "3RnN4peoiCZX"
      }
    },
    {
      "cell_type": "code",
      "source": [
        "# Load Dataset\n",
        "from google.colab import drive\n",
        "drive.mount('/content/drive')"
      ],
      "metadata": {
        "id": "4CkvbW_SlZ_R"
      },
      "execution_count": null,
      "outputs": []
    },
    {
      "cell_type": "code",
      "source": [
        "# Load Dataset\n",
        "titles_df =pd.read_csv('/content/drive/MyDrive/colab/capstone projects/MODULE_2/titles.csv/titles.csv')\n",
        "credits_df =pd.read_csv('/content/drive/MyDrive/colab/capstone projects/MODULE_2/credits.csv/credits.csv')"
      ],
      "metadata": {
        "id": "5fLM8WshZjji"
      },
      "execution_count": null,
      "outputs": []
    },
    {
      "cell_type": "markdown",
      "source": [
        "### **Dataset First View**"
      ],
      "metadata": {
        "id": "x71ZqKXriCWQ"
      }
    },
    {
      "cell_type": "code",
      "source": [
        "# Viewing first few rows of titles_df\n",
        "titles_df.head()"
      ],
      "metadata": {
        "id": "LWNFOSvLl09H",
        "collapsed": true
      },
      "execution_count": null,
      "outputs": []
    },
    {
      "cell_type": "code",
      "source": [
        "# Viewing first few rows of credits_df\n",
        "credits_df.head()"
      ],
      "metadata": {
        "id": "FvQvBprkbr2v",
        "collapsed": true
      },
      "execution_count": null,
      "outputs": []
    },
    {
      "cell_type": "markdown",
      "source": [
        "**Merging The Two Datasets**"
      ],
      "metadata": {
        "id": "XRzjePmWc6Wa"
      }
    },
    {
      "cell_type": "code",
      "source": [
        "# Merge on 'id'\n",
        "df = pd.merge(credits_df, titles_df, on='id', how='left')"
      ],
      "metadata": {
        "id": "7u_Rot3wdLXh"
      },
      "execution_count": null,
      "outputs": []
    },
    {
      "cell_type": "code",
      "source": [
        "# Preview first few rows of the merged data\n",
        "df.head()"
      ],
      "metadata": {
        "id": "yWB6PHvadTLW",
        "collapsed": true
      },
      "execution_count": null,
      "outputs": []
    },
    {
      "cell_type": "code",
      "source": [
        "# Preview last few rows of the merged data\n",
        "df.tail()"
      ],
      "metadata": {
        "id": "4J-xbZpLkLyM"
      },
      "execution_count": null,
      "outputs": []
    },
    {
      "cell_type": "markdown",
      "source": [
        "### **Dataset Rows & Columns count**"
      ],
      "metadata": {
        "id": "7hBIi_osiCS2"
      }
    },
    {
      "cell_type": "code",
      "source": [
        "# Dataset Rows & Columns count\n",
        "df.shape"
      ],
      "metadata": {
        "id": "Kllu7SJgmLij"
      },
      "execution_count": null,
      "outputs": []
    },
    {
      "cell_type": "markdown",
      "source": [
        "**Interpretation**\n",
        "The dataset after merging has 19 rows and 124347 columns"
      ],
      "metadata": {
        "id": "RmOKyg8leAuL"
      }
    },
    {
      "cell_type": "markdown",
      "source": [
        "### **Dataset Information**"
      ],
      "metadata": {
        "id": "JlHwYmJAmNHm"
      }
    },
    {
      "cell_type": "code",
      "source": [
        "# Dataset Info\n",
        "df.info()"
      ],
      "metadata": {
        "id": "e9hRXRi6meOf"
      },
      "execution_count": null,
      "outputs": []
    },
    {
      "cell_type": "markdown",
      "source": [
        "**Key Observations:**\n",
        "\n",
        "**Character column** has missing values likely because it applies only to actors.\n",
        "\n",
        "**Seasons** has major null values since it’s not relevant for movies.\n",
        "\n",
        "**age_certification, imdb_score, and tmdb_score** also have significant missing data, which will require imputation or filtering depending on analysis.\n",
        "\n",
        "Data types look clean and appropriate for most columns.\n",
        "\n"
      ],
      "metadata": {
        "id": "8v3OXePpfm2L"
      }
    },
    {
      "cell_type": "markdown",
      "source": [
        "#### **Duplicate Values**"
      ],
      "metadata": {
        "id": "35m5QtbWiB9F"
      }
    },
    {
      "cell_type": "code",
      "source": [
        "# Dataset Duplicate Value Count\n",
        "df.duplicated().sum()"
      ],
      "metadata": {
        "id": "1sLdpKYkmox0"
      },
      "execution_count": null,
      "outputs": []
    },
    {
      "cell_type": "markdown",
      "source": [
        "Out of a total of 124,347 rows, the dataset contains 168 completely duplicate rows. These rows have identical values across all 19 columns, which indicates:\n",
        "\n",
        "They may have been unintentionally introduced during the merge of titles.csv and credits.csv.\n",
        "\n",
        "These duplicates add no value and could distort analysis"
      ],
      "metadata": {
        "id": "7huRb8cKgumD"
      }
    },
    {
      "cell_type": "markdown",
      "source": [
        "#### Missing Values/Null Values"
      ],
      "metadata": {
        "id": "PoPl-ycgm1ru"
      }
    },
    {
      "cell_type": "code",
      "source": [
        "# Missing Values/Null Values Count\n",
        "df.isnull().sum()"
      ],
      "metadata": {
        "id": "GgHWkxvamxVg"
      },
      "execution_count": null,
      "outputs": []
    },
    {
      "cell_type": "code",
      "source": [
        "# Visualizing the missing values\n",
        "(df.isnull().sum() / len(df) * 100).sort_values(ascending=False).plot(\n",
        "    kind='bar', figsize=(8,5), color='skyblue', edgecolor='black')\n",
        "plt.title(\"Percentage of Missing Values by Column\")\n",
        "plt.ylabel(\"Percentage\")\n",
        "plt.xticks(rotation=90)\n",
        "plt.show()\n"
      ],
      "metadata": {
        "id": "3q5wnI3om9sJ"
      },
      "execution_count": null,
      "outputs": []
    },
    {
      "cell_type": "markdown",
      "source": [
        "**Key Insights:**\n",
        "\n",
        "No missing values in:\n",
        "\n",
        "*person_id, id, name, role, title, type, release_year, runtime, genres, production_countries*\n",
        "\n",
        "Missing values in :\n",
        "\n",
        "**character** has 16,307 missing values (~13%)\n",
        "→ Likely missing for crew roles like directors/writers; this is expected and acceptable.\n",
        "\n",
        "**description** has 91 missing values (<1%)\n",
        "→ Negligible; rows can be dropped or filled with 'No description available'.\n",
        "\n",
        "**age_certification** is missing in 67,640 rows (~54%)\n",
        "→ Major concern; can be labeled as 'Unknown' or 'Unrated' for analysis.\n",
        "\n",
        "**seasons** is missing in 116,194 rows (~93%)\n",
        "→ Expected since movies don’t have seasons; no issue for most analysis.\n",
        "\n",
        "**imdb_id, imdb_score, imdb_votes missing** in ~4.5–5%\n",
        "→ Small portion; can be dropped or imputed using genre/type-wise mean.\n",
        "\n",
        "**tmdb_popularity** has only 15 missing\n",
        "→ Can be safely dropped without affecting data quality.\n",
        "\n",
        "**tmdb_score** missing in 10,265 rows (~8.3%)\n",
        "→ Moderate; handle by imputation or drop depending on analysis importance.\n"
      ],
      "metadata": {
        "id": "VtU5ks8Sia_n"
      }
    },
    {
      "cell_type": "markdown",
      "source": [
        "### What did you know about your dataset?"
      ],
      "metadata": {
        "id": "H0kj-8xxnORC"
      }
    },
    {
      "cell_type": "markdown",
      "source": [
        "1.The dataset is a merged collection from two CSV files: titles.csv and credits.csv, combining metadata of movies/shows with detailed cast and crew information.\n",
        "\n",
        "2.It contains 124,347 rows and 19 columns, representing individual credit entries (actors, directors, etc.) linked to content titles.\n",
        "\n",
        "3.Columns include metadata like title, type, release_year, runtime, genres, and performance metrics like imdb_score, tmdb_score, and popularity.\n",
        "\n",
        "4.There are no duplicate IDs, but 168 fully duplicated rows were identified (not yet removed).\n",
        "\n",
        "5.A few columns, especially seasons, age_certification, and tmdb_score, have significant missing values, which will require cleaning or handling.\n",
        "\n",
        "6.The seasons column has over 93% missing values, expected because it only applies to shows.\n",
        "\n",
        "7.The dataset offers strong potential for EDA, content-type analysis, actor/director influence studies, and rating-based insights."
      ],
      "metadata": {
        "id": "gfoNAAC-nUe_"
      }
    },
    {
      "cell_type": "markdown",
      "source": [
        "## ***2. Understanding Your Variables***"
      ],
      "metadata": {
        "id": "nA9Y7ga8ng1Z"
      }
    },
    {
      "cell_type": "code",
      "source": [
        "# Dataset Columns\n",
        "df.columns"
      ],
      "metadata": {
        "id": "j7xfkqrt5Ag5"
      },
      "execution_count": null,
      "outputs": []
    },
    {
      "cell_type": "code",
      "source": [
        "# Dataset Describe\n",
        "df.describe().round()"
      ],
      "metadata": {
        "id": "DnOaZdaE5Q5t"
      },
      "execution_count": null,
      "outputs": []
    },
    {
      "cell_type": "markdown",
      "source": [
        "### Variables Description"
      ],
      "metadata": {
        "id": "PBTbrJXOngz2"
      }
    },
    {
      "cell_type": "markdown",
      "source": [
        "person_id – Unique identifier for each person (actor, director, etc.) in the credits data.\n",
        "\n",
        "id – Unique identifier for each title; links the credits and titles datasets.\n",
        "\n",
        "name – Name of the person involved in the title.\n",
        "\n",
        "character – Name of the character played by the actor (blank for directors, etc.).\n",
        "\n",
        "role – The role of the person in the production (e.g., ACTOR, DIRECTOR).\n",
        "\n",
        "title – The name of the movie or TV show.\n",
        "\n",
        "type – Type of content: either MOVIE or SHOW.\n",
        "\n",
        "description – A brief summary or plot description of the content.\n",
        "\n",
        "release_year – The year the content was released.\n",
        "\n",
        "age_certification – Age rating classification (e.g., PG-13, R, TV-MA).\n",
        "\n",
        "runtime – Duration of the content in minutes.\n",
        "\n",
        "genres – Genres assigned to the title (e.g., action, drama, comedy).\n",
        "\n",
        "production_countries – Country or countries where the content was produced.\n",
        "\n",
        "seasons – Number of seasons (only applicable to TV shows).\n",
        "\n",
        "imdb_id – Unique identifier for the content on IMDb.\n",
        "\n",
        "imdb_score – IMDb rating of the content (scale of 1 to 10).\n",
        "\n",
        "imdb_votes – Number of user votes for the title on IMDb.\n",
        "\n",
        "tmdb_popularity – Popularity metric from The Movie Database (TMDb).\n",
        "\n",
        "tmdb_score – Viewer rating score from TMDb (similar to IMDb score).\n",
        "\n"
      ],
      "metadata": {
        "id": "aJV4KIxSnxay"
      }
    },
    {
      "cell_type": "markdown",
      "source": [
        "### Check Unique Values for each variable."
      ],
      "metadata": {
        "id": "u3PMJOP6ngxN"
      }
    },
    {
      "cell_type": "code",
      "source": [
        "# Check Unique Values for each variable.\n",
        "df.nunique()"
      ],
      "metadata": {
        "id": "zms12Yq5n-jE"
      },
      "execution_count": null,
      "outputs": []
    },
    {
      "cell_type": "markdown",
      "source": [
        "**High Cardinality Columns (many unique values):**\n",
        "\n",
        "person_id: 80,508 → large number of unique individuals.\n",
        "\n",
        "name: 79,758 → diverse set of people (actors, directors, etc.).\n",
        "\n",
        "id: 8,861 → number of distinct titles.\n",
        "\n",
        "title: 8,748 → almost all titles are uniquely named.\n",
        "\n",
        "character: 71,097 → diverse character names across shows/movies.\n",
        "\n",
        "imdb_id: 8,267 → mostly unique identifiers per title.\n",
        "\n",
        "description: 8,833 → most content has a unique description.\n",
        "\n",
        "tmdb_popularity: 5,267, imdb_votes: 3,623 → lots of variability in popularity and votes.\n",
        "\n",
        "genres: 1,965 → combinations of genres (e.g., ['drama', 'action']).\n",
        "\n",
        "**Moderate Cardinality Columns:**\n",
        "\n",
        "runtime: 204 → wide range of runtimes (from short films to long movies/shows).\n",
        "\n",
        "release_year: 110 → content spans ~110 years (e.g., 1912–2022).\n",
        "\n",
        "production_countries: 482 → many country codes, possibly includes co-productions.\n",
        "\n",
        "**Low Cardinality Columns (useful for categorization/grouping):**\n",
        "\n",
        "type: 2 → MOVIE, SHOW.\n",
        "\n",
        "role: 2 → typically ACTOR and DIRECTOR.\n",
        "\n",
        "seasons: 30 → applicable only to TV shows.\n",
        "\n",
        "age_certification: 11 → manageable number of age ratings.\n",
        "\n",
        "imdb_score: 85, tmdb_score: 88 → ratings from 1 to 10, in decimal steps (e.g., 6.5, 7.0).\n",
        "\n"
      ],
      "metadata": {
        "id": "-NhoBWr2onaT"
      }
    },
    {
      "cell_type": "markdown",
      "source": [
        "## 3. ***Data Wrangling***"
      ],
      "metadata": {
        "id": "dauF4eBmngu3"
      }
    },
    {
      "cell_type": "markdown",
      "source": [
        "## **3.1 Handling Duplicates**"
      ],
      "metadata": {
        "id": "bKJF3rekwFvQ"
      }
    },
    {
      "cell_type": "markdown",
      "source": [
        "###**3.1.1 Checking Duplicates**"
      ],
      "metadata": {
        "id": "0ys7Y6IraQ5I"
      }
    },
    {
      "cell_type": "code",
      "source": [
        "# check duplicate rows\n",
        "df.duplicated().sum()"
      ],
      "metadata": {
        "id": "QEIxYphpal-G"
      },
      "execution_count": null,
      "outputs": []
    },
    {
      "cell_type": "markdown",
      "source": [
        "The above shows that there are 168 duplicate rows.These duplicate rows need to be removed from the dataset for smooth analysis and visualization."
      ],
      "metadata": {
        "id": "R9b4Vsp6bpKo"
      }
    },
    {
      "cell_type": "markdown",
      "source": [
        "###**3.1.2 Removing Duplicate rows**"
      ],
      "metadata": {
        "id": "Fy5fLT-qbDxZ"
      }
    },
    {
      "cell_type": "code",
      "source": [
        "# Remove duplicated rows\n",
        "df.drop_duplicates(inplace=True)"
      ],
      "metadata": {
        "id": "wk-9a2fpoLcV"
      },
      "execution_count": null,
      "outputs": []
    },
    {
      "cell_type": "markdown",
      "source": [
        "We have removed the duplicate rows in the dataset."
      ],
      "metadata": {
        "id": "pKG9TsJYcF4n"
      }
    },
    {
      "cell_type": "markdown",
      "source": [
        "## **3.2 Handling Missing/Null Values**"
      ],
      "metadata": {
        "id": "ft1DaKbNcQzi"
      }
    },
    {
      "cell_type": "code",
      "source": [
        "# Missing Values/Null Values Count\n",
        "df.isnull().sum()"
      ],
      "metadata": {
        "collapsed": true,
        "id": "6CdGgKROcap7"
      },
      "execution_count": null,
      "outputs": []
    },
    {
      "cell_type": "code",
      "source": [
        "# Fill description with placeholder\n",
        "df['description'].fillna(\"No description available\")"
      ],
      "metadata": {
        "id": "KTpu5j0wc3w2"
      },
      "execution_count": null,
      "outputs": []
    },
    {
      "cell_type": "code",
      "source": [
        "# Fill age_certification with 'Unknown'\n",
        "df['age_certification'].fillna(\"Unknown\")"
      ],
      "metadata": {
        "collapsed": true,
        "id": "RCHrqJbOdHs4"
      },
      "execution_count": null,
      "outputs": []
    },
    {
      "cell_type": "code",
      "source": [
        "# Fill seasons: 0 for movies (since they don't have seasons)\n",
        "df['seasons'] = df.apply(lambda row: 0 if row['type'] == 'MOVIE' and pd.isnull(row['seasons']) else row['seasons'], axis=1)"
      ],
      "metadata": {
        "id": "gkDqaA6xdQ4Z"
      },
      "execution_count": null,
      "outputs": []
    },
    {
      "cell_type": "code",
      "source": [
        "# Optional: Drop rows with missing imdb_id (or keep, based on analysis)\n",
        "df.dropna(subset=['imdb_id'], inplace=True)"
      ],
      "metadata": {
        "id": "Is3cC6_rdS5I"
      },
      "execution_count": null,
      "outputs": []
    },
    {
      "cell_type": "code",
      "source": [
        "# Fill missing imdb_score, imdb_votes, tmdb_score with median values\n",
        "df['imdb_score'].fillna(df['imdb_score'].median())\n",
        "df['imdb_votes'].fillna(df['imdb_votes'].median())\n",
        "df['tmdb_score'].fillna(df['tmdb_score'].median())"
      ],
      "metadata": {
        "id": "sanpeNucdWSC"
      },
      "execution_count": null,
      "outputs": []
    },
    {
      "cell_type": "code",
      "source": [
        "# Drop 15 rows with missing tmdb_popularity\n",
        "df.dropna(subset=['tmdb_popularity'], inplace=True)"
      ],
      "metadata": {
        "id": "wAff_5rQdXR4"
      },
      "execution_count": null,
      "outputs": []
    },
    {
      "cell_type": "markdown",
      "source": [
        "##**3.3 Handling Datatypes**"
      ],
      "metadata": {
        "id": "m-ZeLY59fP2v"
      }
    },
    {
      "cell_type": "markdown",
      "source": [
        "###**3.3.1 Checking Datatypes**"
      ],
      "metadata": {
        "id": "BqRmRgBHfr1b"
      }
    },
    {
      "cell_type": "code",
      "source": [
        "#checking datatypes\n",
        "df.dtypes"
      ],
      "metadata": {
        "collapsed": true,
        "id": "4MzD_ZPTfewu"
      },
      "execution_count": null,
      "outputs": []
    },
    {
      "cell_type": "markdown",
      "source": [
        "###**3.3.2 Converting the required columns datatypes**"
      ],
      "metadata": {
        "id": "l7UuF6PHhUq7"
      }
    },
    {
      "cell_type": "code",
      "source": [
        "# Convert required columns\n",
        "df['seasons'] = df['seasons'].astype(int)\n",
        "\n",
        "# Optional: Cast categories\n",
        "df['type'] = df['type'].astype('category')\n",
        "df['role'] = df['role'].astype('category')\n",
        "df['genres'] = df['genres'].astype('category')\n",
        "df['production_countries'] = df['production_countries'].astype('category')\n"
      ],
      "metadata": {
        "id": "DMTvPDuTfUoy"
      },
      "execution_count": null,
      "outputs": []
    },
    {
      "cell_type": "code",
      "source": [
        "# Remove whitespace and unify case\n",
        "df['name'] = df['name'].str.strip().str.title()\n",
        "df['title'] = df['title'].str.strip().str.title()\n",
        "df['role'] = df['role'].str.strip().str.upper()\n",
        "df['genres'] = df['genres'].str.strip().str.title()\n",
        "df['production_countries'] = df['production_countries'].str.strip().str.upper()\n"
      ],
      "metadata": {
        "id": "L10rC93NhBmr"
      },
      "execution_count": null,
      "outputs": []
    },
    {
      "cell_type": "markdown",
      "source": [
        "### What all manipulations have you done and insights you found?"
      ],
      "metadata": {
        "id": "MSa1f5Uengrz"
      }
    },
    {
      "cell_type": "markdown",
      "source": [
        "**1. Data Cleaning**\n",
        "\n",
        "*    Removed duplicate rows (168 duplicate entries were found and dropped).\n",
        "\n",
        "**2. Handled missing values:**\n",
        "\n",
        "*   Filled missing description with: \"No description available\".\n",
        "\n",
        "*   Replaced nulls in age_certification with \"Unknown\".\n",
        "\n",
        "*   Set seasons = 0 for all movies (since seasons are irrelevant).\n",
        "\n",
        "*   Dropped rows with missing imdb_id .\n",
        "\n",
        "*   Filled missing imdb_score, imdb_votes, and tmdb_score with respective medians.\n",
        "\n",
        "*   Dropped 15 rows with missing tmdb_popularity.\n",
        "\n",
        "\n",
        "**2. Data Transformation**\n",
        "\n",
        "*   Converted stringified lists in genres and production_countries to actual Python lists using ast.literal_eval.\n",
        "\n",
        "*   Exploded genres and production_countries into separate rows for multivariate analysis.\n",
        "\n",
        "**3. Data Type Corrections**\n",
        "\n",
        "*   Cast columns like runtime, release_year, seasons to integers.\n",
        "\n",
        "*   Converted columns like type, role, genres, and production_countries to categorical types for analysis and memory efficiency.\n",
        "\n",
        "**4. Text Standardization**\n",
        "\n",
        "*   Standardized columns like name, title, genres, and production_countries by stripping whitespaces and using title/uppercase format.\n",
        "\n"
      ],
      "metadata": {
        "id": "LbyXE7I1olp8"
      }
    },
    {
      "cell_type": "code",
      "source": [
        "df.shape"
      ],
      "metadata": {
        "id": "M8L3x7wsrfjd"
      },
      "execution_count": null,
      "outputs": []
    },
    {
      "cell_type": "markdown",
      "source": [
        "## ***4. Data Vizualization, Storytelling & Experimenting with charts : Understand the relationships between variables***"
      ],
      "metadata": {
        "id": "GF8Ens_Soomf"
      }
    },
    {
      "cell_type": "markdown",
      "source": [
        "##**4.1 Univariate Analysis**"
      ],
      "metadata": {
        "id": "1BskQLbc23c6"
      }
    },
    {
      "cell_type": "markdown",
      "source": [
        "### **4.1.1 Univariate Analysis - Categorical Columns**"
      ],
      "metadata": {
        "id": "3lkGxeF-25iF"
      }
    },
    {
      "cell_type": "markdown",
      "source": [
        "#### Chart - 1 **Distribution of content type**"
      ],
      "metadata": {
        "id": "0wOQAZs5pc--"
      }
    },
    {
      "cell_type": "code",
      "source": [
        "# Chart - 1\n",
        "# Create count plot\n",
        "plt.figure(figsize=(4, 5))\n",
        "ax = sns.countplot(data=df, x='type',color='green')\n",
        "plt.title('Distribution of Content Type')\n",
        "\n",
        "# Add value labels\n",
        "for i in ax.patches:\n",
        "    count = int(i.get_height())\n",
        "    ax.annotate(f'{count}',\n",
        "                (i.get_x() + i.get_width() / 2., i.get_height()),\n",
        "                ha='center', va='bottom', fontsize=11, color='black')\n",
        "\n",
        "plt.show()"
      ],
      "metadata": {
        "id": "7v_ESjsspbW7"
      },
      "execution_count": null,
      "outputs": []
    },
    {
      "cell_type": "markdown",
      "source": [
        "##### **1. Why did you pick the specific chart?**"
      ],
      "metadata": {
        "id": "K5QZ13OEpz2H"
      }
    },
    {
      "cell_type": "markdown",
      "source": [
        "We use countplot because it's ideal for visualizing the frequency of categorical variables. It automatically counts and displays the number of entries in each category, making it easy to compare values like Movies vs Shows in a clear, visual format."
      ],
      "metadata": {
        "id": "XESiWehPqBRc"
      }
    },
    {
      "cell_type": "markdown",
      "source": [
        "##### **2. What is/are the insight(s) found from the chart?**"
      ],
      "metadata": {
        "id": "lQ7QKXXCp7Bj"
      }
    },
    {
      "cell_type": "markdown",
      "source": [
        "The count plot depcits that\n",
        "1. shows are   7399\n",
        "2. movies are  111462"
      ],
      "metadata": {
        "id": "C_j1G7yiqdRP"
      }
    },
    {
      "cell_type": "markdown",
      "source": [
        "##### **3. Will the gained insights help creating a positive business impact?**\n",
        "Are there any insights that lead to negative growth? Justify with specific reason."
      ],
      "metadata": {
        "id": "448CDAPjqfQr"
      }
    },
    {
      "cell_type": "markdown",
      "source": [
        "**Postive Business Impact**\n",
        "\n",
        "Yes.\n",
        "Understanding the skew toward movies:\n",
        "\n",
        "Helps content strategists decide whether to invest more in TV shows to balance the catalog.\n",
        "\n",
        "Useful for marketing teams to tailor campaigns focused on the dominant content type (movies).\n",
        "\n",
        "For user engagement analysis, it helps in feature recommendation algorithms by giving more weight to the more available type.\n",
        "\n",
        "**Negative Business Insight**\n",
        "\n",
        "Yes, possible negative growth insight:\n",
        "\n",
        "The low volume of SHOW content (only 7,399 titles) might indicate underrepresentation of episodic/serial content, which is a major engagement driver for many OTT platforms.\n",
        "\n",
        "Shows tend to keep viewers subscribed longer due to episode-based storytelling (e.g., weekly releases, bingeable seasons). The lack of sufficient show content may lead to:\n",
        "\n",
        "Lower retention of subscribers looking for series.\n",
        "\n",
        "Missed revenue opportunities through longer engagement.\n",
        "\n",
        "Loss of competitive edge compared to platforms with strong original show libraries (e.g., Netflix, Disney+).\n",
        "\n",
        "✅ Justification: If user behavior leans toward long-form or episodic content, the limited number of shows can push users to switch platforms, especially after watching the limited series on Amazon Prime."
      ],
      "metadata": {
        "id": "3cspy4FjqxJW"
      }
    },
    {
      "cell_type": "markdown",
      "source": [
        "#### Chart - 2 **Distribution of Genres**"
      ],
      "metadata": {
        "id": "KSlN3yHqYklG"
      }
    },
    {
      "cell_type": "code",
      "source": [
        "# Chart - 2 visualization code\n",
        "# Ensure genres column is in list format\n",
        "import ast\n",
        "\n",
        "# Step 1: Convert stringified lists to actual Python lists\n",
        "df['genres'] = df['genres'].apply(lambda x: ast.literal_eval(x) if isinstance(x, str) else x)\n",
        "\n",
        "# Step 2: Remove any non-list rows (optional safety check)\n",
        "df = df[df['genres'].apply(lambda x: isinstance(x, list))]\n",
        "\n",
        "# Step 3: Explode the genres\n",
        "df_exploded = df.explode('genres').reset_index(drop=True)"
      ],
      "metadata": {
        "id": "R4YgtaqtYklH"
      },
      "execution_count": null,
      "outputs": []
    },
    {
      "cell_type": "code",
      "source": [
        "plt.figure(figsize=(10,6))\n",
        "ax = sns.countplot(data=df_exploded, y='genres', order=df_exploded['genres'].value_counts().index,color='blue')\n",
        "\n",
        "# Adding value labels\n",
        "for p in ax.patches:\n",
        "    ax.annotate(f'{p.get_width()}', (p.get_width(), p.get_y() + 0.5), va='center')\n",
        "\n",
        "plt.title('Distribution of Genres')\n",
        "plt.xlabel('Count')\n",
        "plt.ylabel('Genre')\n",
        "plt.tight_layout()\n",
        "plt.show()"
      ],
      "metadata": {
        "id": "sqKKQnuW6z_l"
      },
      "execution_count": null,
      "outputs": []
    },
    {
      "cell_type": "markdown",
      "source": [
        "##### **1. Why did you pick the specific chart?**"
      ],
      "metadata": {
        "id": "t6dVpIINYklI"
      }
    },
    {
      "cell_type": "markdown",
      "source": [
        "A horizontal bar plot is ideal when:\n",
        "\n",
        "We have categorical values with long labels (like genre names).\n",
        "\n",
        "We want to easily compare frequency/counts of each genre.\n",
        "\n",
        "We're dealing with many categories — which are better visualized horizontally.\n",
        "\n",
        "Also, exploding the genre list was necessary to treat each genre individually, as many titles had multiple genres in a single list (e.g., ['comedy', 'drama']).\n",
        "\n"
      ],
      "metadata": {
        "id": "5aaW0BYyYklI"
      }
    },
    {
      "cell_type": "markdown",
      "source": [
        "##### **2. What is/are the insight(s) found from the chart?**"
      ],
      "metadata": {
        "id": "ijmpgYnKYklI"
      }
    },
    {
      "cell_type": "markdown",
      "source": [
        "Top 5 genres by count are:\n",
        "\n",
        "🎭 Drama (68,042)\n",
        "\n",
        "😂 Comedy (40,575)\n",
        "\n",
        "🔪 Thriller (31,913)\n",
        "\n",
        "🔫 Action (29,977)\n",
        "\n",
        "💕 Romance (28,484)\n",
        "\n",
        "Genres like Reality, Sport, and Animation are least represented."
      ],
      "metadata": {
        "id": "PSx9atu2YklI"
      }
    },
    {
      "cell_type": "markdown",
      "source": [
        "##### **3. Will the gained insights help creating a positive business impact?**\n",
        "Are there any insights that lead to negative growth? Justify with specific reason."
      ],
      "metadata": {
        "id": "-JiQyfWJYklI"
      }
    },
    {
      "cell_type": "markdown",
      "source": [
        "**Positive Business Impact:**\n",
        "\n",
        "High counts of Drama and Comedy indicate mass appeal, suggesting platforms should prioritize acquiring or producing these genres.\n",
        "\n",
        "Identifying popular genres helps guide marketing strategies and recommendation algorithms.\n",
        "\n",
        "**Negative Growth Insight:**\n",
        "\n",
        "Underrepresented genres (like Reality or Animation) may indicate untapped opportunities or niche audience segments.\n",
        "\n",
        "If the platform wants to diversify content, these genres could be explored more actively.\n",
        "\n"
      ],
      "metadata": {
        "id": "BcBbebzrYklV"
      }
    },
    {
      "cell_type": "markdown",
      "source": [
        "#### Chart - 3 **Distribution of age certifications**"
      ],
      "metadata": {
        "id": "EM7whBJCYoAo"
      }
    },
    {
      "cell_type": "code",
      "source": [
        "# Chart - 3 visualization code\n",
        "# Set figure size\n",
        "plt.figure(figsize=(10, 6))\n",
        "\n",
        "# Count plot for age_certification\n",
        "ax = sns.countplot(data=df, x='age_certification', order=df['age_certification'].value_counts().index,color='pink')\n",
        "\n",
        "# Add annotations\n",
        "for p in ax.patches:\n",
        "    height = p.get_height()\n",
        "    ax.annotate(f'{int(height)}', (p.get_x() + p.get_width() / 2., height),\n",
        "                ha='center', va='bottom', fontsize=10)\n",
        "\n",
        "# Title and labels\n",
        "plt.title(\"Distribution of Age Certifications\")\n",
        "plt.xlabel(\"Age Certification\")\n",
        "plt.ylabel(\"Count\")\n",
        "plt.xticks(rotation=45)\n",
        "plt.tight_layout()\n",
        "plt.show()\n"
      ],
      "metadata": {
        "id": "t6GMdE67YoAp"
      },
      "execution_count": null,
      "outputs": []
    },
    {
      "cell_type": "markdown",
      "source": [
        "##### **1. Why did you pick the specific chart?**"
      ],
      "metadata": {
        "id": "fge-S5ZAYoAp"
      }
    },
    {
      "cell_type": "markdown",
      "source": [
        "A bar plot is ideal for visualizing frequency distribution of categorical variables like age_certification. It allows easy comparison between categories such as R, PG-13, TV-MA, etc."
      ],
      "metadata": {
        "id": "5dBItgRVYoAp"
      }
    },
    {
      "cell_type": "markdown",
      "source": [
        "##### **2. What is/are the insight(s) found from the chart?**"
      ],
      "metadata": {
        "id": "85gYPyotYoAp"
      }
    },
    {
      "cell_type": "markdown",
      "source": [
        "The most common age certification is ‘R’, followed by ‘PG-13’ and ‘PG’.\n",
        "\n",
        "Less frequent certifications include ‘TV-G’, ‘TV-Y’, and ‘NC-17’.\n",
        "\n",
        "The data seems to skew toward more mature content, indicating a heavier representation of content for adults and teens."
      ],
      "metadata": {
        "id": "4jstXR6OYoAp"
      }
    },
    {
      "cell_type": "markdown",
      "source": [
        "##### **3. Will the gained insights help creating a positive business impact?**\n",
        "Are there any insights that lead to negative growth? Justify with specific reason."
      ],
      "metadata": {
        "id": "RoGjAbkUYoAp"
      }
    },
    {
      "cell_type": "markdown",
      "source": [
        "**Positive Insights**\n",
        "The dominance of R-rated and PG-13 content may reflect the platform's focus on teen and adult audiences.\n",
        "\n",
        "This insight can help shape marketing strategies, content recommendation systems, and future content acquisition decisions (e.g., producing more family/kids-friendly shows if the platform wants to expand to younger demographics).\n",
        "\n",
        "**Negative Insights**\n",
        "\n",
        "Limited content for kids (TV-Y, TV-G) could represent a missed opportunity. If families with children don’t find enough suitable content, they might avoid subscribing or move to more kid-friendly competitors like Disney+.\n",
        "\n",
        "If not intentional, this imbalance can signal a need for diversification of content categories to tap into untapped viewer segments."
      ],
      "metadata": {
        "id": "zfJ8IqMcYoAp"
      }
    },
    {
      "cell_type": "markdown",
      "source": [
        "#### Chart - 4 **Trend of Releases Over Years**"
      ],
      "metadata": {
        "id": "4Of9eVA-YrdM"
      }
    },
    {
      "cell_type": "code",
      "source": [
        "# Chart - 4 visualization code\n",
        "plt.figure(figsize=(14,6))\n",
        "sns.lineplot(data=df['release_year'].value_counts().sort_index())\n",
        "plt.title('Trend of Content Releases Over Years')\n",
        "plt.xlabel('Release Year')\n",
        "plt.ylabel('Number of Titles')\n",
        "plt.grid(True)\n",
        "plt.show()\n"
      ],
      "metadata": {
        "id": "irlUoxc8YrdO"
      },
      "execution_count": null,
      "outputs": []
    },
    {
      "cell_type": "markdown",
      "source": [
        "##### **1. Why did you pick the specific chart?**"
      ],
      "metadata": {
        "id": "iky9q4vBYrdO"
      }
    },
    {
      "cell_type": "markdown",
      "source": [
        "A line chart was chosen because it is ideal for showing how values change over time. Since release_year is a continuous variable and we wanted to observe trends year-by-year, this chart helps visualize the overall growth and dips in content production."
      ],
      "metadata": {
        "id": "aJRCwT6DYrdO"
      }
    },
    {
      "cell_type": "markdown",
      "source": [
        "##### **2. What is/are the insight(s) found from the chart?**"
      ],
      "metadata": {
        "id": "F6T5p64dYrdO"
      }
    },
    {
      "cell_type": "markdown",
      "source": [
        "There was steady growth in content production after 2000.\n",
        "\n",
        "A sharp spike occurred between 2015 and 2020, reaching a peak around 2019–2020 with over 8000 titles released.\n",
        "\n",
        "A noticeable drop is seen after 2020, especially in 2023, likely due to incomplete data for recent years."
      ],
      "metadata": {
        "id": "Xx8WAJvtYrdO"
      }
    },
    {
      "cell_type": "markdown",
      "source": [
        "##### **3. Will the gained insights help creating a positive business impact?**\n",
        "Are there any insights that lead to negative growth? Justify with specific reason."
      ],
      "metadata": {
        "id": "y-Ehk30pYrdP"
      }
    },
    {
      "cell_type": "markdown",
      "source": [
        "The rising trend from 2000 to 2020 shows strong demand and investment in content creation.\n",
        "\n",
        "The surge around 2019–2020 suggests strategic expansion in streaming platforms, possibly due to increased digital consumption and global OTT adoption.\n",
        "\n",
        "Businesses can use this insight to analyze successful launch windows, and replicate strategies during high-content-growth periods.\n",
        "\n",
        "**Negative Insights**\n",
        "\n",
        "Yes, the sharp drop after 2020 may indicate:\n",
        "\n",
        "Incomplete data for the latest years (2022–2023)\n",
        "\n",
        "Or actual decline due to COVID-19 disruptions, budget cuts, or changing business models.\n",
        "\n",
        "This might negatively impact projections if not handled properly — forecasting models should treat post-2020 cautiously.\n",
        "\n"
      ],
      "metadata": {
        "id": "jLNxxz7MYrdP"
      }
    },
    {
      "cell_type": "markdown",
      "source": [
        "### **4.1.2 Univariate Analysis - Numerical Columns**"
      ],
      "metadata": {
        "id": "L_dVAn9a_h-r"
      }
    },
    {
      "cell_type": "markdown",
      "source": [
        "#### Chart - 5 **Distribution of Imdb Scores**"
      ],
      "metadata": {
        "id": "bamQiAODYuh1"
      }
    },
    {
      "cell_type": "code",
      "source": [
        "# Chart - 5 visualization code\n",
        "import matplotlib.pyplot as plt\n",
        "import seaborn as sns\n",
        "\n",
        "plt.figure(figsize=(10, 6))\n",
        "sns.histplot(df['imdb_score'], bins=30, kde=True, color='skyblue')\n",
        "plt.title('Distribution of IMDb Scores')\n",
        "plt.xlabel('IMDb Score')\n",
        "plt.ylabel('Frequency')\n",
        "plt.grid(True)\n",
        "plt.show()\n"
      ],
      "metadata": {
        "id": "TIJwrbroYuh3"
      },
      "execution_count": null,
      "outputs": []
    },
    {
      "cell_type": "markdown",
      "source": [
        "##### **1. Why did you pick the specific chart?**"
      ],
      "metadata": {
        "id": "QHF8YVU7Yuh3"
      }
    },
    {
      "cell_type": "markdown",
      "source": [
        "A histogram with KDE (Kernel Density Estimate) is ideal for visualizing the distribution of a numerical variable.\n",
        "\n",
        "It helps us understand the spread, central tendency, and skewness of IMDb scores."
      ],
      "metadata": {
        "id": "dcxuIMRPYuh3"
      }
    },
    {
      "cell_type": "markdown",
      "source": [
        "##### **2. What is/are the insight(s) found from the chart?**"
      ],
      "metadata": {
        "id": "GwzvFGzlYuh3"
      }
    },
    {
      "cell_type": "markdown",
      "source": [
        "*   Most titles have IMDb scores between 5.5 and 7.0.\n",
        "\n",
        "*   The distribution is approximately normal (bell-shaped), but slightly left-skewed, indicating fewer very high-rated titles.\n",
        "\n",
        "*   Very few titles are rated below 4.0 or above 8.5."
      ],
      "metadata": {
        "id": "uyqkiB8YYuh3"
      }
    },
    {
      "cell_type": "markdown",
      "source": [
        "##### **3. Will the gained insights help creating a positive business impact?**\n",
        "Are there any insights that lead to negative growth? Justify with specific reason."
      ],
      "metadata": {
        "id": "qYpmQ266Yuh3"
      }
    },
    {
      "cell_type": "markdown",
      "source": [
        "*   Majority of Amazon Prime content falls in the average to good rating range, which can be used for promotional campaigns: “Most of our titles are rated 6+ on IMDb!”\n",
        "\n",
        "*   Marketing efforts can highlight top-rated content to drive user engagement.\n",
        "\n",
        "*   Content below 5 could be reviewed for quality or considered for removal or improvement.\n",
        "\n",
        "**Negative Insight**\n",
        "\n",
        "Yes.\n",
        "\n",
        "*  A significant portion of titles are clustered between 5.0–6.0, which might not attract audiences seeking premium-quality content.\n",
        "\n",
        "*  If too much average content accumulates without standout ratings, it may reduce perceived platform value over time.\n",
        "\n"
      ],
      "metadata": {
        "id": "_WtzZ_hCYuh4"
      }
    },
    {
      "cell_type": "markdown",
      "source": [
        "#### Chart - 6 **Distribution of Tmdb Scores**"
      ],
      "metadata": {
        "id": "PIIx-8_IphqN"
      }
    },
    {
      "cell_type": "code",
      "source": [
        "# Chart - 7 visualization code\n",
        "plt.figure(figsize=(10, 5))\n",
        "sns.histplot(df['tmdb_score'], bins=30, kde=True, color='teal')\n",
        "plt.title('Distribution of TMDB Scores')\n",
        "plt.xlabel('TMDB Score')\n",
        "plt.ylabel('Frequency')\n",
        "plt.grid(True)\n",
        "plt.show()\n"
      ],
      "metadata": {
        "id": "lqAIGUfyphqO"
      },
      "execution_count": null,
      "outputs": []
    },
    {
      "cell_type": "markdown",
      "source": [
        "##### **1. Why did you pick the specific chart?**"
      ],
      "metadata": {
        "id": "t27r6nlMphqO"
      }
    },
    {
      "cell_type": "markdown",
      "source": [
        "A histogram with KDE (Kernel Density Estimation) is best for showing how a continuous variable like tmdb_score is distributed. It reveals skewness, modality, and central tendency clearly, which is essential for understanding user ratings."
      ],
      "metadata": {
        "id": "iv6ro40sphqO"
      }
    },
    {
      "cell_type": "markdown",
      "source": [
        "##### **2. What is/are the insight(s) found from the chart?**"
      ],
      "metadata": {
        "id": "r2jJGEOYphqO"
      }
    },
    {
      "cell_type": "markdown",
      "source": [
        "* The TMDB scores are roughly normally distributed, centered around 6.\n",
        "\n",
        "* The majority of titles have a score in the range of 5 to 7.\n",
        "\n",
        "* Very few titles have extremely low (<3) or high (>8.5) scores.\n",
        "\n",
        "* There's a slight positive skew in the distribution."
      ],
      "metadata": {
        "id": "Po6ZPi4hphqO"
      }
    },
    {
      "cell_type": "markdown",
      "source": [
        "##### **3. Will the gained insights help creating a positive business impact?**\n",
        "Are there any insights that lead to negative growth? Justify with specific reason."
      ],
      "metadata": {
        "id": "b0JNsNcRphqO"
      }
    },
    {
      "cell_type": "markdown",
      "source": [
        "* The average TMDB score being around 6 indicates moderate audience satisfaction.\n",
        "\n",
        "* Since very few titles score extremely high, there's an opportunity to focus on improving content quality.\n",
        "\n",
        "* Content creators or acquisition teams can target high-scoring genres or creators for better viewer retention.\n",
        "\n",
        "* The large volume of average-scoring content may indicate content saturation, which could push users to switch platforms if not balanced with high-quality options.\n",
        "\n",
        "**Negative Insight**\n",
        "\n",
        "* The long tail of low-rated content may:\n",
        "\n",
        "* Lower the platform’s average perception among users.\n",
        "\n",
        "* Reduce viewer trust in recommendations.\n",
        "\n",
        "* Result in user churn if users frequently encounter disappointing content.\n",
        "\n",
        "Efforts should be made to analyze why some titles receive low scores and either improve them or remove/promote them less."
      ],
      "metadata": {
        "id": "xvSq8iUTphqO"
      }
    },
    {
      "cell_type": "markdown",
      "source": [
        "#### Chart - 7  **Distribution of Tmdb popularity**"
      ],
      "metadata": {
        "id": "OH-pJp9IphqM"
      }
    },
    {
      "cell_type": "code",
      "source": [
        "# Chart - 6 visualization code\n",
        "plt.figure(figsize=(10, 2))\n",
        "sns.boxplot(x='tmdb_popularity', data=df, color='salmon')\n",
        "plt.title('Box Plot of TMDB Popularity')\n",
        "plt.xlabel('TMDB Popularity')\n",
        "plt.show()"
      ],
      "metadata": {
        "id": "kuRf4wtuphqN"
      },
      "execution_count": null,
      "outputs": []
    },
    {
      "cell_type": "markdown",
      "source": [
        "##### **1. Why did you pick the specific chart?**"
      ],
      "metadata": {
        "id": "bbFf2-_FphqN"
      }
    },
    {
      "cell_type": "markdown",
      "source": [
        "The box plot was selected because it efficiently displays the distribution, central tendency, and outliers of TMDB popularity in a compact format. It's excellent for identifying:\n",
        "\n",
        "Median value\n",
        "\n",
        "Interquartile range (IQR)\n",
        "\n",
        "Extreme values/outliers\n",
        "\n"
      ],
      "metadata": {
        "id": "loh7H2nzphqN"
      }
    },
    {
      "cell_type": "markdown",
      "source": [
        "##### **2. What is/are the insight(s) found from the chart?**"
      ],
      "metadata": {
        "id": "_ouA3fa0phqN"
      }
    },
    {
      "cell_type": "markdown",
      "source": [
        "*  TMDB Popularity is heavily right-skewed.\n",
        "\n",
        "*  A majority of the data lies in a narrow range on the lower end (close to 0–50).\n",
        "\n",
        "*  There are numerous extreme outliers, with some content showing popularity scores beyond 1000, which are significantly distant from the rest of the data.\n",
        "\n"
      ],
      "metadata": {
        "id": "VECbqPI7phqN"
      }
    },
    {
      "cell_type": "markdown",
      "source": [
        "##### **3. Will the gained insights help creating a positive business impact?**\n",
        "Are there any insights that lead to negative growth? Justify with specific reason."
      ],
      "metadata": {
        "id": "Seke61FWphqN"
      }
    },
    {
      "cell_type": "markdown",
      "source": [
        "*   This skewed distribution suggests a small number of titles drive significant popularity, while most content receives relatively low attention.\n",
        "\n",
        "*   Streaming platforms should focus promotional strategies on underperforming titles or investigate what makes the top-performing titles so successful.\n",
        "\n",
        "*   Could help in content recommendation systems to balance between popular and lesser-known titles.\n",
        "\n",
        "**Negative Insights**\n",
        "\n",
        "*  The long tail of unpopular titles indicates content saturation or poor discoverability, which may waste platform resources (licensing, hosting).\n",
        "\n",
        "*  If left unchecked, this can negatively affect ROI, especially if a majority of newly launched content continues to perform poorly.\n"
      ],
      "metadata": {
        "id": "DW4_bGpfphqN"
      }
    },
    {
      "cell_type": "markdown",
      "source": [
        "#### Chart 8 - **Imdb Votes**"
      ],
      "metadata": {
        "id": "iNcZ1ckHHtm4"
      }
    },
    {
      "cell_type": "code",
      "source": [
        "# Chart - 8 visualization code\n",
        "# Box Plot to check for outliers\n",
        "plt.figure(figsize=(12, 2))\n",
        "sns.boxplot(x=df['imdb_votes'], color='orange')\n",
        "plt.title('Box Plot of IMDb Votes')\n",
        "plt.xlabel('IMDb Votes')\n",
        "plt.show()\n"
      ],
      "metadata": {
        "id": "TdPTWpAVphqO"
      },
      "execution_count": null,
      "outputs": []
    },
    {
      "cell_type": "markdown",
      "source": [
        "##### **1. Why did you pick the specific chart?**"
      ],
      "metadata": {
        "id": "jj7wYXLtphqO"
      }
    },
    {
      "cell_type": "markdown",
      "source": [
        "*  A box plot is ideal for spotting outliers and understanding the distribution spread of numerical variables like imdb_votes.\n",
        "\n",
        "*  It highlights the median, interquartile range (IQR), and extreme values, which is important for vote-based metrics where outliers are common.\n",
        "\n"
      ],
      "metadata": {
        "id": "Ob8u6rCTphqO"
      }
    },
    {
      "cell_type": "markdown",
      "source": [
        "##### **2. What is/are the insight(s) found from the chart?**"
      ],
      "metadata": {
        "id": "eZrbJ2SmphqO"
      }
    },
    {
      "cell_type": "markdown",
      "source": [
        "*  There is a heavy concentration of IMDb votes on the lower side, indicating most titles received fewer votes.\n",
        "\n",
        "*  A significant number of outliers exist — some titles have votes exceeding 1 million, showing a few highly popular entries dominating user engagement.\n",
        "\n"
      ],
      "metadata": {
        "id": "mZtgC_hjphqO"
      }
    },
    {
      "cell_type": "markdown",
      "source": [
        "##### **3. Will the gained insights help creating a positive business impact?**\n",
        "Are there any insights that lead to negative growth? Justify with specific reason."
      ],
      "metadata": {
        "id": "rFu4xreNphqO"
      }
    },
    {
      "cell_type": "markdown",
      "source": [
        "This skewed vote distribution suggests only a small subset of content receives mass engagement, which can help platforms:\n",
        "\n",
        "*  Curate top-performing content\n",
        "\n",
        "*  Focus marketing/promotion on similar content genres\n",
        "\n",
        "*  Allocate more resources to produce or acquire content with similar engagement potential.\n",
        "\n",
        "**Negative Insights**\n",
        "\n",
        "Yes.\n",
        "*  If a streaming platform relies only on the average vote metric, it might mislead content evaluation due to a few highly rated titles skewing the data.\n",
        "\n",
        "*  Underrated titles with low votes but high potential might get overlooked, affecting diversity and user satisfaction in the content catalog."
      ],
      "metadata": {
        "id": "ey_0qi68phqO"
      }
    },
    {
      "cell_type": "markdown",
      "source": [
        "## **4.2 Bivariate Analysis**"
      ],
      "metadata": {
        "id": "45E0iUnGKjj0"
      }
    },
    {
      "cell_type": "markdown",
      "source": [
        "###**4.2.1 Bivariate Analysis - Categorical vs Categorical Columns**"
      ],
      "metadata": {
        "id": "3cWFcWzWLzK9"
      }
    },
    {
      "cell_type": "markdown",
      "source": [
        "#### Chart - 9 **Content type vs Age Certification**"
      ],
      "metadata": {
        "id": "YJ55k-q6phqO"
      }
    },
    {
      "cell_type": "code",
      "source": [
        "# Chart - 9 visualization code\n",
        "# Crosstab + Heatmap - type vs age_certification\n",
        "plt.figure(figsize=(12, 6))\n",
        "crosstab = pd.crosstab(df['type'], df['age_certification'])\n",
        "sns.heatmap(crosstab, annot=True, fmt='d', cmap='YlGnBu')\n",
        "plt.title('Heatmap of Type vs Age Certification')\n",
        "plt.ylabel('Type')\n",
        "plt.xlabel('Age Certification')\n",
        "plt.tight_layout()\n",
        "plt.show()\n"
      ],
      "metadata": {
        "id": "B2aS4O1ophqO"
      },
      "execution_count": null,
      "outputs": []
    },
    {
      "cell_type": "markdown",
      "source": [
        "##### **1. Why did you pick the specific chart?**"
      ],
      "metadata": {
        "id": "gCFgpxoyphqP"
      }
    },
    {
      "cell_type": "markdown",
      "source": [
        "A heatmap was chosen because it gives a clear, color-coded overview of how two categorical variables (type and age_certification) intersect in frequency.\n",
        "\n",
        "It visually highlights where the majority of content lies in terms of certification for each content type (Movie/Show)."
      ],
      "metadata": {
        "id": "TVxDimi2phqP"
      }
    },
    {
      "cell_type": "markdown",
      "source": [
        "##### **2. What is/are the insight(s) found from the chart?**"
      ],
      "metadata": {
        "id": "OVtJsKN_phqQ"
      }
    },
    {
      "cell_type": "markdown",
      "source": [
        "* Movies dominate traditional certifications like R, PG-13, PG, and G.\n",
        "\n",
        "* Shows are exclusive to TV certifications such as TV-MA, TV-14, TV-G, etc.\n",
        "\n",
        "* There's a complete segregation — no overlap between movie and TV rating categories."
      ],
      "metadata": {
        "id": "ngGi97qjphqQ"
      }
    },
    {
      "cell_type": "markdown",
      "source": [
        "##### **3. Will the gained insights help creating a positive business impact?**\n",
        "Are there any insights that lead to negative growth? Justify with specific reason."
      ],
      "metadata": {
        "id": "lssrdh5qphqQ"
      }
    },
    {
      "cell_type": "markdown",
      "source": [
        "* The platform likely classifies and restricts certifications clearly based on content type, helping avoid regulatory issues.\n",
        "\n",
        "* Can help in designing custom filters or parental control settings — for instance, enabling different default filters for movies vs shows.\n",
        "\n",
        "**Negative Insights**\n",
        "\n",
        "* If shows do not explore traditional certifications (like PG-13 or R) and stick only to TV-based certifications, creative boundaries may be limited.\n",
        "\n",
        "* Likewise, the platform might miss opportunities to adapt or mix certification standards across content types in global markets."
      ],
      "metadata": {
        "id": "tBpY5ekJphqQ"
      }
    },
    {
      "cell_type": "markdown",
      "source": [
        "#### Chart - 10 **Content Type vs Genre**"
      ],
      "metadata": {
        "id": "U2RJ9gkRphqQ"
      }
    },
    {
      "cell_type": "code",
      "source": [
        "# Chart - 10 visualization code\n",
        "# Explode genres if not already exploded\n",
        "df_exploded = df.copy()\n",
        "df_exploded['genres'] = df_exploded['genres'].apply(lambda x: eval(x) if isinstance(x, str) else x)\n",
        "df_exploded = df_exploded.explode('genres')\n",
        "\n",
        "# Create crosstab\n",
        "genre_type_ct = pd.crosstab(df_exploded['type'], df_exploded['genres'])\n",
        "\n",
        "# Plot heatmap\n",
        "plt.figure(figsize=(14, 6))\n",
        "sns.heatmap(genre_type_ct, annot=True, fmt='d', cmap='YlGnBu')\n",
        "plt.title('Heatmap of Content Type vs Genre')\n",
        "plt.ylabel('Type')\n",
        "plt.xlabel('Genre')\n",
        "plt.xticks(rotation=90, ha='right')\n",
        "plt.tight_layout()\n",
        "plt.show()\n"
      ],
      "metadata": {
        "id": "GM7a4YP4phqQ"
      },
      "execution_count": null,
      "outputs": []
    },
    {
      "cell_type": "markdown",
      "source": [
        "##### **1. Why did you pick the specific chart?**"
      ],
      "metadata": {
        "id": "1M8mcRywphqQ"
      }
    },
    {
      "cell_type": "markdown",
      "source": [
        "* A heatmap is ideal to visualize the distribution and intensity of counts between two categorical variables.\n",
        "\n",
        "* Here, type (MOVIE/SHOW) and genres are categorical, and we want to see how frequently each genre appears within each content type."
      ],
      "metadata": {
        "id": "8agQvks0phqQ"
      }
    },
    {
      "cell_type": "markdown",
      "source": [
        "##### **2. What is/are the insight(s) found from the chart?**"
      ],
      "metadata": {
        "id": "tgIPom80phqQ"
      }
    },
    {
      "cell_type": "markdown",
      "source": [
        "* Movies dominate across all genres.\n",
        "\n",
        "* Drama, Comedy, and Thriller are the top 3 genres for both types, but overwhelmingly for movies.\n",
        "\n",
        "* Certain genres like Animation, Family, Fantasy, Sci-fi, History, and Romance also show significant presence in movies.\n",
        "\n",
        "* Shows are very few in number and most common genres for shows are Drama, Comedy, and Animation.\n",
        "\n",
        "* Genre Reality is almost negligible across both types."
      ],
      "metadata": {
        "id": "Qp13pnNzphqQ"
      }
    },
    {
      "cell_type": "markdown",
      "source": [
        "##### **3. Will the gained insights help creating a positive business impact?**\n",
        "Are there any insights that lead to negative growth? Justify with specific reason."
      ],
      "metadata": {
        "id": "JMzcOPDDphqR"
      }
    },
    {
      "cell_type": "markdown",
      "source": [
        "Helps content acquisition teams focus on popular genre-type combinations. For example:\n",
        "\n",
        "* Investing more in Drama and Comedy Movies can yield better engagement.\n",
        "\n",
        "* Animation Shows might cater to a niche but engaged audience.\n",
        "\n",
        "* Useful for personalized recommendation algorithms – knowing what type of content is likely to appeal to certain viewer groups.\n",
        "\n",
        "**Negative Growth Insights**\n",
        "* Reality and Music genres show minimal presence, especially in shows. This might indicate:\n",
        "\n",
        "* Lower viewer demand or low content production in these categories.\n",
        "\n",
        "* These areas can either be avoided or carefully tested before investing more resources."
      ],
      "metadata": {
        "id": "R4Ka1PC2phqR"
      }
    },
    {
      "cell_type": "markdown",
      "source": [
        "#### Chart - 11 **Genre vs Age_Certification**"
      ],
      "metadata": {
        "id": "x-EpHcCOp1ci"
      }
    },
    {
      "cell_type": "code",
      "source": [
        "# Chart - 11 visualization code\n",
        "\n",
        "# Count of titles by age_certification and genre\n",
        "age_genre_counts = df_exploded.groupby(['age_certification', 'genres']).size().reset_index(name='count')\n",
        "\n",
        "# Plotting\n",
        "plt.figure(figsize=(18, 7))\n",
        "sns.barplot(data=age_genre_counts, x='genres', y='count', hue='age_certification')\n",
        "\n",
        "plt.title('Distribution of Genres by Age Certification')\n",
        "plt.xticks(rotation=45, ha='right')\n",
        "plt.xlabel('Genre')\n",
        "plt.ylabel('Number of Titles')\n",
        "plt.legend(title='Age Certification')\n",
        "plt.tight_layout()\n",
        "plt.show()\n"
      ],
      "metadata": {
        "id": "mAQTIvtqp1cj"
      },
      "execution_count": null,
      "outputs": []
    },
    {
      "cell_type": "markdown",
      "source": [
        "##### **1. Why did you pick the specific chart?**"
      ],
      "metadata": {
        "id": "X_VqEhTip1ck"
      }
    },
    {
      "cell_type": "markdown",
      "source": [
        "We selected a grouped bar chart to analyze the distribution of different Age Certifications across various Genres. This visual effectively shows comparative frequency within each genre for different certification levels, making it easy to identify patterns, imbalances, and dominance of certain age ratings per genre."
      ],
      "metadata": {
        "id": "-vsMzt_np1ck"
      }
    },
    {
      "cell_type": "markdown",
      "source": [
        "##### **2. What is/are the insight(s) found from the chart?**"
      ],
      "metadata": {
        "id": "8zGJKyg5p1ck"
      }
    },
    {
      "cell_type": "markdown",
      "source": [
        "*  Drama, Comedy, and Thriller dominate across almost all age certifications, especially in PG-13 and R categories.\n",
        "\n",
        "*  R-rated content has the highest count across multiple genres such as Drama, Thriller, and Action, suggesting a strong tilt toward mature content production.\n",
        "\n",
        "*  Family-oriented genres like Animation and Family primarily fall under G, PG, and TV-Y certifications.\n",
        "\n",
        "*  Very few titles in genres like Reality and War have any certification, indicating underrepresentation or lack of age classification data.\n",
        "\n",
        "*  Some genres (like Music, Sport) show a balanced distribution across multiple age groups.\n",
        "\n"
      ],
      "metadata": {
        "id": "ZYdMsrqVp1ck"
      }
    },
    {
      "cell_type": "markdown",
      "source": [
        "##### **3. Will the gained insights help creating a positive business impact?**\n",
        "Are there any insights that lead to negative growth? Justify with specific reason."
      ],
      "metadata": {
        "id": "PVzmfK_Ep1ck"
      }
    },
    {
      "cell_type": "markdown",
      "source": [
        "*  The dominance of mature content (R and PG-13) indicates that platforms like Amazon Prime are largely targeting adult audiences, which may limit viewership among families or children.\n",
        "\n",
        "*  If Amazon Prime wants to expand into kid-safe or family segments, it may need to invest more in G, PG, or TV-Y content, especially in high-engagement genres like Animation, Family, or Fantasy.\n",
        "\n",
        "*  On the other hand, the current focus on R and PG-13 content could be strategic, aligning with viewer demand for more intense, dramatic, or thrilling content.\n",
        "\n",
        "\n",
        "Yes, there are two negative insights:\n",
        "\n",
        "*  Over-dependence on R-rated content: Genres like Drama, Thriller, and Horror heavily rely on mature content, potentially alienating younger viewers or limiting household viewership.\n",
        "\n",
        "*  Low diversity in certifications for certain genres: Genres such as European, War, or Reality show limited age group diversity, indicating a gap in inclusive or age-diverse storytelling, which can affect global engagement and compliance with regional content guidelines.\n",
        "\n"
      ],
      "metadata": {
        "id": "druuKYZpp1ck"
      }
    },
    {
      "cell_type": "markdown",
      "source": [
        "#### Chart - 12 **Production Country vs Content Type**"
      ],
      "metadata": {
        "id": "n3dbpmDWp1ck"
      }
    },
    {
      "cell_type": "code",
      "source": [
        "# Chart - 12 visualization code\n",
        "import ast\n",
        "\n",
        "# 1️⃣ Ensure production_countries is a Python list (not a string)\n",
        "df['production_countries'] = df['production_countries'].apply(\n",
        "    lambda x: ast.literal_eval(x) if isinstance(x, str) else x\n",
        ")\n",
        "\n",
        "# 2️⃣ Explode the list so each country gets its own row\n",
        "df_country = df.explode('production_countries')\n",
        "\n",
        "# 3️⃣ (Optional) Focus on the top 10 most frequent countries for readability\n",
        "top_countries = df_country['production_countries'].value_counts().head(10).index\n",
        "df_top = df_country[df_country['production_countries'].isin(top_countries)]\n",
        "\n",
        "# 4️⃣ Plot: Countplot with 'type' as hue\n",
        "plt.figure(figsize=(12, 6))\n",
        "sns.countplot(\n",
        "    data=df_top,\n",
        "    x='production_countries',\n",
        "    hue='type',\n",
        "    palette='Set2'\n",
        ")\n",
        "plt.title('Distribution of Content Types Across Top Production Countries')\n",
        "plt.xlabel('Production Country')\n",
        "plt.ylabel('Number of Titles')\n",
        "plt.xticks(rotation=45, ha='right')\n",
        "plt.legend(title='Content Type')\n",
        "plt.tight_layout()\n",
        "plt.show()\n"
      ],
      "metadata": {
        "id": "bwevp1tKp1ck"
      },
      "execution_count": null,
      "outputs": []
    },
    {
      "cell_type": "markdown",
      "source": [
        "##### **1. Why did you pick the specific chart?**"
      ],
      "metadata": {
        "id": "ylSl6qgtp1ck"
      }
    },
    {
      "cell_type": "markdown",
      "source": [
        "A grouped countplot was chosen because we are analyzing the relationship between two categorical variables — production_countries and type (MOVIE or SHOW). This plot effectively highlights the distribution of content types across the top-producing countries.\n",
        "\n"
      ],
      "metadata": {
        "id": "m2xqNkiQp1ck"
      }
    },
    {
      "cell_type": "markdown",
      "source": [
        "##### **2. What is/are the insight(s) found from the chart?**"
      ],
      "metadata": {
        "id": "ZWILFDl5p1ck"
      }
    },
    {
      "cell_type": "markdown",
      "source": [
        "*  The United States dominates content production by a massive margin in both categories, especially movies.\n",
        "\n",
        "*  Other notable contributors include India (IN), United Kingdom (GB), and Canada (CA), but their contributions are significantly lower than the US.\n",
        "\n",
        "*  In every country shown, movies vastly outnumber shows, indicating a general industry preference or trend toward producing movies over shows.\n",
        "\n"
      ],
      "metadata": {
        "id": "x-lUsV2mp1ck"
      }
    },
    {
      "cell_type": "markdown",
      "source": [
        "##### **3. Will the gained insights help creating a positive business impact?**\n",
        "Are there any insights that lead to negative growth? Justify with specific reason."
      ],
      "metadata": {
        "id": "M7G43BXep1ck"
      }
    },
    {
      "cell_type": "markdown",
      "source": [
        "* **Content Strategy:** Platforms like Amazon Prime can allocate more licensing, promotion, or acquisition resources toward movies, especially from the US, as they form the core of the catalog.\n",
        "\n",
        "* **Localized Growth Opportunities:** Countries like India, Canada, and the UK, despite being behind the US, show strong movie output — suggesting potential markets for regional content investments, localization, or original content development.\n",
        "\n",
        "* **Content Balance:** The relative scarcity of shows across all countries may indicate either an opportunity to expand show production or a deliberate content strategy based on audience demand.\n",
        "\n",
        "**Negative Insight**\n",
        "\n",
        "Yes, one potential gap is the underrepresentation of TV shows across even the top 10 countries. This can be a missed opportunity in regions where binge-worthy series consumption is rising. Platforms that fail to meet this demand may lose users to competitors like Netflix or Disney+ that focus heavily on episodic content.\n",
        "\n",
        "\n"
      ],
      "metadata": {
        "id": "5wwDJXsLp1cl"
      }
    },
    {
      "cell_type": "markdown",
      "source": [
        "###**4.2.2 Bivariate Analysis - Categorical vs Numercial Columns**"
      ],
      "metadata": {
        "id": "djOBQWIn5iVs"
      }
    },
    {
      "cell_type": "markdown",
      "source": [
        "#### Chart - 13 **Content Type vs Imdb score**"
      ],
      "metadata": {
        "id": "Ag9LCva-p1cl"
      }
    },
    {
      "cell_type": "code",
      "source": [
        "# Chart - 13 visualization code\n",
        "plt.figure(figsize=(8, 5))\n",
        "sns.violinplot(data=df, x='type', y='imdb_score',color='maroon')\n",
        "plt.title('Distribution of IMDb Scores by Content Type')\n",
        "plt.xlabel('Content Type')\n",
        "plt.ylabel('IMDb Score')\n",
        "plt.tight_layout()\n",
        "plt.show()\n"
      ],
      "metadata": {
        "id": "EUfxeq9-p1cl"
      },
      "execution_count": null,
      "outputs": []
    },
    {
      "cell_type": "markdown",
      "source": [
        "##### **1. Why did you pick the specific chart?**"
      ],
      "metadata": {
        "id": "E6MkPsBcp1cl"
      }
    },
    {
      "cell_type": "markdown",
      "source": [
        "A violin plot was chosen because it allows us to compare the distribution and density of IMDb scores between the two content types — MOVIE and SHOW. It shows both the range and the concentration of scores, which is more informative than just a boxplot or bar chart."
      ],
      "metadata": {
        "id": "V22bRsFWp1cl"
      }
    },
    {
      "cell_type": "markdown",
      "source": [
        "##### **2. What is/are the insight(s) found from the chart?**"
      ],
      "metadata": {
        "id": "2cELzS2fp1cl"
      }
    },
    {
      "cell_type": "markdown",
      "source": [
        "*  V Shows tend to have higher average IMDb scores than Movies.\n",
        "\n",
        "*  The distribution for Movies is wider and more spread out, indicating more variation in ratings.\n",
        "\n",
        "*  The density for Shows is tightly clustered around the 7.5–8 range, suggesting more consistent quality.\n",
        "\n"
      ],
      "metadata": {
        "id": "ozQPc2_Ip1cl"
      }
    },
    {
      "cell_type": "markdown",
      "source": [
        "##### **3. Will the gained insights help creating a positive business impact?**\n",
        "Are there any insights that lead to negative growth? Justify with specific reason."
      ],
      "metadata": {
        "id": "3MPXvC8up1cl"
      }
    },
    {
      "cell_type": "markdown",
      "source": [
        "*  Shows are generally rated better by viewers, which can be a cue for platforms like Amazon Prime to invest more in quality show productions.\n",
        "\n",
        "*  For marketing teams, highlighting high-rated shows can boost platform engagement and retention.\n",
        "\n",
        "*  For product planning, it helps understand what content segment users are finding more reliable or enjoyable.\n",
        "\n",
        "**Negative Insight**\n",
        "\n",
        "Yes — the wider spread and lower density of high ratings in Movies suggests inconsistency in movie quality. If not addressed, this can:\n",
        "\n",
        "*  Lead to user dissatisfaction, especially among movie lovers.\n",
        "\n",
        "*  Result in negative reviews, which could affect brand trust over time.\n",
        "\n",
        "*  A strategy to improve movie quality or curate better-rated titles is necessary to mitigate this.\n",
        "\n"
      ],
      "metadata": {
        "id": "GL8l1tdLp1cl"
      }
    },
    {
      "cell_type": "markdown",
      "source": [
        "#### Chart - 14 **Age_certification vs tmdb_score**"
      ],
      "metadata": {
        "id": "lcZ9n5L56GVu"
      }
    },
    {
      "cell_type": "code",
      "source": [
        "# Chart - 14 visualization code\n",
        "plt.figure(figsize=(12, 6))\n",
        "sns.boxplot(data=df, x='age_certification', y='tmdb_score', color='purple')\n",
        "\n",
        "plt.title('Box Plot of TMDB Scores by Age Certification')\n",
        "plt.xlabel('Age Certification')\n",
        "plt.ylabel('TMDB Score')\n",
        "plt.xticks(rotation=45)\n",
        "plt.tight_layout()\n",
        "plt.show()"
      ],
      "metadata": {
        "id": "KrmtlmHX6C3q"
      },
      "execution_count": null,
      "outputs": []
    },
    {
      "cell_type": "markdown",
      "source": [
        "##### **1. Why did you pick the specific chart?**"
      ],
      "metadata": {
        "id": "Cr9OKwin6BnS"
      }
    },
    {
      "cell_type": "markdown",
      "source": [
        "*  A box plot is ideal here because it shows:\n",
        "\n",
        "*  The distribution of TMDB scores for each age certification category.\n",
        "\n",
        "*  Key summary statistics (median, quartiles).\n",
        "\n",
        "*  The spread of scores and presence of outliers.\n",
        "It helps to compare how content ratings correlate with perceived quality (TMDB scores).\n",
        "\n"
      ],
      "metadata": {
        "id": "QwiDSQGZ79ot"
      }
    },
    {
      "cell_type": "markdown",
      "source": [
        "##### **2. What is/are the insight(s) found from the chart?**"
      ],
      "metadata": {
        "id": "Ce9DFc1r6iQr"
      }
    },
    {
      "cell_type": "markdown",
      "source": [
        "*  TV-G, TV-Y7, TV-14, TV-MA content generally has higher median TMDB scores.\n",
        "\n",
        "*  Certifications like NC-17 and R have lower medians and higher variability.\n",
        "\n",
        "*  Outliers are present in every category, but child-safe content (TV-Y, TV-G) tends to show consistently high scores."
      ],
      "metadata": {
        "id": "pZfZg_B18AQm"
      }
    },
    {
      "cell_type": "markdown",
      "source": [
        "##### **3. Will the gained insights help creating a positive business impact?**\n",
        "Are there any insights that lead to negative growth? Justify with specific reason.\n"
      ],
      "metadata": {
        "id": "D0AcGs1H6iQr"
      }
    },
    {
      "cell_type": "markdown",
      "source": [
        "*  Content with TV certifications (TV-MA, TV-G, TV-Y7) tends to be better received on TMDB.\n",
        "\n",
        "*  If a platform is deciding what type of content to produce or promote, focusing on high-scoring certification brackets could improve audience satisfaction and ratings.\n",
        "\n",
        "*  Parental control content (TV-Y, TV-G) is a safe bet for maintaining platform quality ratings.\n",
        "\n",
        "**Negative Insights**\n",
        "\n",
        "*  Content rated NC-17 and R has lower median scores and higher outliers, suggesting inconsistency or poor reception.\n",
        "\n",
        "*  Promoting or investing heavily in explicit content might risk negative feedback or reduce platform credibility, especially if quality isn't maintained."
      ],
      "metadata": {
        "id": "Bdtoered7YJp"
      }
    },
    {
      "cell_type": "markdown",
      "source": [
        "#### Chart - 15 **Type vs runtime**"
      ],
      "metadata": {
        "id": "7iENadKB7YmN"
      }
    },
    {
      "cell_type": "code",
      "source": [
        "# Chart - 15 visualization code\n",
        "plt.figure(figsize=(5, 3))\n",
        "sns.boxplot(data=df, x='type', y='runtime',color='yellow')\n",
        "\n",
        "plt.title('Runtime Distribution by Content Type')\n",
        "plt.xlabel('Content Type')\n",
        "plt.ylabel('Runtime (minutes)')\n",
        "plt.tight_layout()\n",
        "plt.show()\n"
      ],
      "metadata": {
        "id": "5a74-Pj27YmN"
      },
      "execution_count": null,
      "outputs": []
    },
    {
      "cell_type": "markdown",
      "source": [
        "##### **1. Why did you pick the specific chart?**"
      ],
      "metadata": {
        "id": "dx4w9MtU7YmN"
      }
    },
    {
      "cell_type": "markdown",
      "source": [
        "A box plot is ideal for comparing the distribution of a numerical variable (runtime) across different categories (type: Movie or Show). It clearly shows the median, interquartile range, and outliers, helping us understand runtime variation for each content type."
      ],
      "metadata": {
        "id": "4yzqfhk2F4Gq"
      }
    },
    {
      "cell_type": "markdown",
      "source": [
        "##### **2. What is/are the insight(s) found from the chart?**"
      ],
      "metadata": {
        "id": "hIamgfMF7YmO"
      }
    },
    {
      "cell_type": "markdown",
      "source": [
        "*  Movies tend to have higher and more varied runtimes compared to Shows.\n",
        "\n",
        "*  Movies have several extreme outliers, some going above 300 minutes.\n",
        "\n",
        "*  Shows generally have shorter and more consistent runtimes, often clustered below 60 minutes"
      ],
      "metadata": {
        "id": "bl8ir2DrF5Jv"
      }
    },
    {
      "cell_type": "markdown",
      "source": [
        "##### **3. Will the gained insights help creating a positive business impact?**\n",
        "Are there any insights that lead to negative growth? Justify with specific reason.\n"
      ],
      "metadata": {
        "id": "5wq4eACQ7YmO"
      }
    },
    {
      "cell_type": "markdown",
      "source": [
        "*  This insight helps content strategy and UX design:\n",
        "\n",
        "*  Knowing shows are shorter, binge-watch features and auto-play may be prioritized for shows.\n",
        "\n",
        "*  The longer runtime of movies may require better buffering or download features on mobile devices.\n",
        "\n",
        "*  Helps in recommendation engine tuning — runtime-based filtering or suggestions can improve engagement.\n",
        "\n",
        "*  There’s no negative business growth insight here, but content length misalignment with viewer preferences could impact completion rates or user retention, especially on mobile-heavy platforms.\n",
        "\n"
      ],
      "metadata": {
        "id": "7kBH7h9J8cte"
      }
    },
    {
      "cell_type": "markdown",
      "source": [
        "###**4.2.3 Bivariate Analysis - Numerical vs Numerical Columns**"
      ],
      "metadata": {
        "id": "0lrjHgmpGk22"
      }
    },
    {
      "cell_type": "markdown",
      "source": [
        "#### Chart - 16 **Imdb score vs Tmdb score**"
      ],
      "metadata": {
        "id": "ihqtGLFe8cwm"
      }
    },
    {
      "cell_type": "code",
      "source": [
        "# Chart - 16 visualization code\n",
        "plt.figure(figsize=(8, 5))\n",
        "sns.regplot(data=df, x='imdb_score', y='tmdb_score', scatter_kws={'alpha':0.4}, line_kws={'color':'red'})\n",
        "\n",
        "plt.title('IMDb Score vs TMDB Score')\n",
        "plt.xlabel('IMDb Score')\n",
        "plt.ylabel('TMDB Score')\n",
        "plt.tight_layout()\n",
        "plt.show()"
      ],
      "metadata": {
        "id": "wdruL_an8cwm"
      },
      "execution_count": null,
      "outputs": []
    },
    {
      "cell_type": "markdown",
      "source": [
        "##### **1. Why did you pick the specific chart?**"
      ],
      "metadata": {
        "id": "LhgdDW8x8cwm"
      }
    },
    {
      "cell_type": "markdown",
      "source": [
        "Because both IMDb and TMDB scores are continuous numerical variables, a scatter plot shows how closely they're related. The regression line helps visualize the trend and detect if a strong correlation exists.\n",
        "\n"
      ],
      "metadata": {
        "id": "SfdbdP7pHQse"
      }
    },
    {
      "cell_type": "markdown",
      "source": [
        "##### **2. What is/are the insight(s) found from the chart?**"
      ],
      "metadata": {
        "id": "YInuPF4E8cwm"
      }
    },
    {
      "cell_type": "markdown",
      "source": [
        "There is a strong positive correlation between IMDb and TMDB scores.\n",
        "\n",
        "*  The regression line slopes upward, indicating that as IMDb scores increase, so do TMDB scores.\n",
        "\n",
        "*  While the relationship is clear, there is some spread around the line, especially in the mid-range (5 to 7 IMDb), where TMDB scores show more variance.\n",
        "\n",
        "*  The plot also highlights a few outliers, where titles rated low on IMDb received higher TMDB scores or vice versa."
      ],
      "metadata": {
        "id": "u1AHIagoHgvZ"
      }
    },
    {
      "cell_type": "markdown",
      "source": [
        "##### **3. Will the gained insights help creating a positive business impact?**\n",
        "Are there any insights that lead to negative growth? Justify with specific reason.\n"
      ],
      "metadata": {
        "id": "h7J56CD-8cwn"
      }
    },
    {
      "cell_type": "markdown",
      "source": [
        "Confirms consistency between both rating systems, making it reliable for:\n",
        "\n",
        "*  Recommendation systems\n",
        "\n",
        "*  Data imputation (if one score is missing)\n",
        "\n",
        "*  User trust by displaying one score backed by another\n",
        "\n",
        "*  Variations in mid-score range suggest differences in audience preferences across platforms.\n",
        "\n",
        "*  Useful for content quality benchmarking, especially for production and curation teams.\n",
        "\n",
        "**Negative Insight**\n",
        "\n",
        "*  While the overall trend is positively correlated, there’s a noticeable dispersion or inconsistency in the mid-score range:\n",
        "\n",
        "*  Many titles with an IMDb score between 5 and 7 have TMDB scores that vary widely from 2 to 10.\n",
        "\n",
        "*  Some titles with low IMDb scores (2–4) still have high TMDB scores (7–9) — this reflects inconsistency between the two rating platforms.\n",
        "\n",
        "These discrepancies suggest differences in rating algorithms, user base preferences, or voting behavior on both platforms."
      ],
      "metadata": {
        "id": "8WX3vBZN8jEK"
      }
    },
    {
      "cell_type": "markdown",
      "source": [
        "#### Chart - 17 **Imdb score vs Imdb votes**"
      ],
      "metadata": {
        "id": "g5fVFhBq8jH1"
      }
    },
    {
      "cell_type": "code",
      "source": [
        "# Chart - 17 visualization\n",
        "plt.figure(figsize=(10, 6))\n",
        "sns.scatterplot(data=df, x='imdb_votes', y='imdb_score', alpha=0.5)\n",
        "\n",
        "plt.xscale('log')  # IMDb votes can have a very wide range\n",
        "plt.title('IMDb Score vs IMDb Votes')\n",
        "plt.xlabel('IMDb Votes (Log Scale)')\n",
        "plt.ylabel('IMDb Score')\n",
        "plt.grid(True)\n",
        "plt.tight_layout()\n",
        "plt.show()"
      ],
      "metadata": {
        "id": "ACHId5FP8jH3"
      },
      "execution_count": null,
      "outputs": []
    },
    {
      "cell_type": "markdown",
      "source": [
        "##### **1. Why did you pick the specific chart?**"
      ],
      "metadata": {
        "id": "Cwx7DjhR8jH3"
      }
    },
    {
      "cell_type": "markdown",
      "source": [
        "A scatter plot with a log scale on the x-axis was selected because it effectively shows the relationship between two numerical variables (imdb_votes and imdb_score) that have significantly different ranges. Log scaling handles the skew in vote counts, revealing patterns across low- and high-vote titles."
      ],
      "metadata": {
        "id": "Q1ijQxXP33JS"
      }
    },
    {
      "cell_type": "markdown",
      "source": [
        "##### **2. What is/are the insight(s) found from the chart?**"
      ],
      "metadata": {
        "id": "6vam6BaJ8jH9"
      }
    },
    {
      "cell_type": "markdown",
      "source": [
        "*  There's a very weak or no clear linear correlation between the number of IMDb votes and the score.\n",
        "\n",
        "*  Many high-vote titles have moderate scores (around 6–7), while a few low-vote titles have both extremely high and low scores.\n",
        "\n",
        "*  Some highly voted titles also have low ratings, indicating that popularity doesn’t always imply quality.\n",
        "\n"
      ],
      "metadata": {
        "id": "9WhqOGLR37Nv"
      }
    },
    {
      "cell_type": "markdown",
      "source": [
        "##### **3. Will the gained insights help creating a positive business impact?**\n",
        "Are there any insights that lead to negative growth? Justify with specific reason.\n"
      ],
      "metadata": {
        "id": "lh2ta24J8jIB"
      }
    },
    {
      "cell_type": "markdown",
      "source": [
        "*  Helps Amazon Prime differentiate between popularity and content quality.\n",
        "\n",
        "*  Supports surfacing high-quality but under-voted content as “hidden gems” for niche audiences.\n",
        "\n",
        "**Negative Insight:**\n",
        "\n",
        "*  Relying solely on vote counts could lead to overpromoting average content, neglecting lesser-known but high-rated titles.\n",
        "\n",
        "*  Business Recommendation: Use both score and vote count as weighted inputs in recommendation engines to balance between quality and popularity."
      ],
      "metadata": {
        "id": "cKn7As3X3_xI"
      }
    },
    {
      "cell_type": "markdown",
      "source": [
        "#### Chart - 18 **Runtime vs tmdb popularity**"
      ],
      "metadata": {
        "id": "P761htnX8kUi"
      }
    },
    {
      "cell_type": "code",
      "source": [
        "# Chart - 18 visualization\n",
        "plt.figure(figsize=(10, 6))\n",
        "sns.scatterplot(data=df, x='runtime', y='tmdb_popularity', alpha=0.5)\n",
        "\n",
        "plt.title('TMDB Popularity vs Runtime')\n",
        "plt.xlabel('Runtime (minutes)')\n",
        "plt.ylabel('TMDB Popularity')\n",
        "plt.grid(True)\n",
        "plt.tight_layout()\n",
        "plt.show()"
      ],
      "metadata": {
        "id": "pbP_UivS8kUj"
      },
      "execution_count": null,
      "outputs": []
    },
    {
      "cell_type": "markdown",
      "source": [
        "##### **1. Why did you pick the specific chart?**"
      ],
      "metadata": {
        "id": "jrR8GURr8kUj"
      }
    },
    {
      "cell_type": "markdown",
      "source": [
        "A scatter plot was chosen because it effectively displays the distribution and relationship between two numerical variables: runtime and tmdb_popularity. This chart type highlights how popularity varies across different content lengths."
      ],
      "metadata": {
        "id": "Hi7NJUpf4Vr-"
      }
    },
    {
      "cell_type": "markdown",
      "source": [
        "##### **2. What is/are the insight(s) found from the chart?**"
      ],
      "metadata": {
        "id": "kj2TlKct8kUk"
      }
    },
    {
      "cell_type": "markdown",
      "source": [
        "*  Most popular titles fall within the 60 to 120-minute runtime range.\n",
        "\n",
        "*  Extremely long content (>200 min) generally shows low popularity.\n",
        "\n",
        "*  Outliers with very high TMDB popularity exist between 80 to 110 minutes, suggesting that audiences prefer concise, well-paced content."
      ],
      "metadata": {
        "id": "YRDnH14t4Z7Y"
      }
    },
    {
      "cell_type": "markdown",
      "source": [
        "##### **3. Will the gained insights help creating a positive business impact?**\n",
        "Are there any insights that lead to negative growth? Justify with specific reason.\n"
      ],
      "metadata": {
        "id": "u3o6pZD08kUk"
      }
    },
    {
      "cell_type": "markdown",
      "source": [
        "Yes.\n",
        "\n",
        "*  Helps Amazon Prime optimize content acquisition and production by focusing on ideal runtimes (approx. 90–120 mins).\n",
        "\n",
        "Could improve user engagement by highlighting titles within preferred runtime ranges.\n",
        "\n",
        "**Negative Insight:**\n",
        "\n",
        "*  Over-prioritizing runtime may exclude long-form content lovers or niche documentaries, leading to reduced diversity.\n",
        "\n",
        "Recommendation: Promote content around the sweet spot (90–120 mins) but retain long-format content for targeted audiences or special categories.\n",
        "\n"
      ],
      "metadata": {
        "id": "bxElVadS4daQ"
      }
    },
    {
      "cell_type": "markdown",
      "source": [
        "#### Chart - 19 **Release year vs Imdb score**"
      ],
      "metadata": {
        "id": "7Z2TcYk34EYW"
      }
    },
    {
      "cell_type": "code",
      "source": [
        "# Chart - 19 visualization\n",
        "plt.figure(figsize=(10, 6))\n",
        "plt.hexbin(df['imdb_votes'], df['imdb_score'], gridsize=50, cmap='Blues', bins='log')\n",
        "plt.xscale('log')\n",
        "plt.colorbar(label='log10(count)')\n",
        "plt.xlabel('IMDb Votes (Log Scale)')\n",
        "plt.ylabel('IMDb Score')\n",
        "plt.title('Hexbin Plot: IMDb Score vs Votes')\n",
        "plt.show()\n"
      ],
      "metadata": {
        "id": "GxZdGJ1Y4tdP"
      },
      "execution_count": null,
      "outputs": []
    },
    {
      "cell_type": "markdown",
      "source": [
        "##### **1. Why did you pick the specific chart?**"
      ],
      "metadata": {
        "id": "f_83h-E54EYZ"
      }
    },
    {
      "cell_type": "markdown",
      "source": [
        "A 2D histogram (heatmap) is used to visualize density between two continuous variables. The log-scaled x-axis helps address the skewed distribution of votes, while color intensity reveals concentration zones of IMDb scores across vote counts."
      ],
      "metadata": {
        "id": "WXUTx0vS4x0u"
      }
    },
    {
      "cell_type": "markdown",
      "source": [
        "##### **2. What is/are the insight(s) found from the chart?**"
      ],
      "metadata": {
        "id": "FjdVMVdi4EYa"
      }
    },
    {
      "cell_type": "markdown",
      "source": [
        "*  The highest density of content lies in the 5–7 IMDb score range, regardless of the number of votes.\n",
        "\n",
        "*  A significant amount of content with both low and high votes still falls in the moderate rating range.\n",
        "\n",
        "*  Very few titles score above 8 or below 4, showing clustering around average ratings."
      ],
      "metadata": {
        "id": "hXIGwKpa4y12"
      }
    },
    {
      "cell_type": "markdown",
      "source": [
        "##### **3. Will the gained insights help creating a positive business impact?**\n",
        "Are there any insights that lead to negative growth? Justify with specific reason.\n"
      ],
      "metadata": {
        "id": "FBRO3E2e4EYb"
      }
    },
    {
      "cell_type": "markdown",
      "source": [
        "Yes:\n",
        "\n",
        "*  Helps Amazon identify the most common quality tier (average-rated titles) to refine recommendations.\n",
        "\n",
        "*  Useful for quality filtering: high vote + high score = premium titles.\n",
        "\n",
        "**Negative Insight:**\n",
        "\n",
        "*  There’s a risk of over-representing average content, missing out on promoting niche or standout titles.\n",
        "\n",
        "*  Recommendation: Prioritize content in high-vote & high-score zones for promotion, and improve discoverability of high-score/low-vote hidden gems."
      ],
      "metadata": {
        "id": "01N5d1hU49E0"
      }
    },
    {
      "cell_type": "markdown",
      "source": [
        "## **4.3 Multivariate Analysis**"
      ],
      "metadata": {
        "id": "aKJ4JB1EHrtH"
      }
    },
    {
      "cell_type": "markdown",
      "source": [
        "#### Chart - 20 **Type vs Genre vs Imdb score**"
      ],
      "metadata": {
        "id": "o8DgHwfW4Evh"
      }
    },
    {
      "cell_type": "code",
      "source": [
        "# Visualization Chart 20\n",
        "df_exploded_reset = df_exploded.reset_index(drop=True)\n",
        "\n",
        "# Now create the plot\n",
        "plt.figure(figsize=(14, 6))\n",
        "sns.boxplot(data=df_exploded_reset, x='genres', y='imdb_score', hue='type')\n",
        "plt.xticks(rotation=90)\n",
        "plt.title('IMDb Score Distribution by Genre and Type')\n",
        "plt.show()\n"
      ],
      "metadata": {
        "id": "R_B5D35-4Evi"
      },
      "execution_count": null,
      "outputs": []
    },
    {
      "cell_type": "markdown",
      "source": [
        "##### **1. Why did you pick the specific chart?**"
      ],
      "metadata": {
        "id": "6z6Xny864Evj"
      }
    },
    {
      "cell_type": "markdown",
      "source": [
        "We used a box plot with a hue='type' to compare how IMDb scores vary across different genres, while also comparing between MOVIE and SHOW content types. This multivariate approach helps in identifying not just genre-based trends, but also how content types perform within those genres.\n",
        "\n"
      ],
      "metadata": {
        "id": "CRnIXSK7Jfe6"
      }
    },
    {
      "cell_type": "markdown",
      "source": [
        "##### **2. What is/are the insight(s) found from the chart?**"
      ],
      "metadata": {
        "id": "hZbhg_5k4Evk"
      }
    },
    {
      "cell_type": "markdown",
      "source": [
        "*  Shows tend to have higher IMDb scores than MOVIEs across most genres (e.g., Drama, Comedy, Family, Animation).\n",
        "\n",
        "*  Genres like War, History, and Western exhibit a wider spread (variance) in IMDb scores, indicating inconsistent reception.\n",
        "\n",
        "*  Some genres like Documentary, Sci-Fi, and Reality have overlapping score distributions, but Movies generally have more outliers (both high and low).\n",
        "\n",
        "*  Animation and Family SHOWs consistently receive higher ratings compared to their movie counterparts.\n",
        "\n",
        "*  Horror and Thriller genres have lower median IMDb scores, especially for Movies.\n",
        "\n"
      ],
      "metadata": {
        "id": "gKRuNK8XJgcB"
      }
    },
    {
      "cell_type": "markdown",
      "source": [
        "##### **3. Will the gained insights help creating a positive business impact?**\n",
        "Are there any insights that lead to negative growth? Justify with specific reason.\n"
      ],
      "metadata": {
        "id": "MTNy67_a4Evk"
      }
    },
    {
      "cell_type": "markdown",
      "source": [
        "*  Streaming platforms can focus more on producing SHOWs in genres like Family, Animation, and Comedy, as they are generally better rated than movies in those categories.\n",
        "\n",
        "*  Avoiding Movie-heavy production in genres like Horror or Thriller, where user satisfaction appears lower on average, could reduce poor-performing content.\n",
        "\n",
        "*  Insights can guide genre-specific budgeting: investing more in SHOWs for high-rating genres and improving script/story quality for low-rating genres.\n",
        "\n",
        "**Negative Insight**\n",
        "\n",
        "*  MOVIEs in genres like Horror, Thriller, and Sci-Fi tend to have lower IMDb ratings and more variability, which may negatively impact viewer trust and reduce watch-time.\n",
        "\n",
        "*  Reality shows, even as SHOWs, have low median scores, suggesting viewers don’t enjoy them as much—this could lead to subscriber churn if content is skewed in that direction.\n",
        "\n",
        "*  Producing more Movies in underperforming genres without understanding viewer expectations could result in wasted production cost and lower ROI."
      ],
      "metadata": {
        "id": "Fb05zcaCJhfz"
      }
    },
    {
      "cell_type": "markdown",
      "source": [],
      "metadata": {
        "id": "JemLQU0nJ4fz"
      }
    },
    {
      "cell_type": "code",
      "source": [],
      "metadata": {
        "id": "Y0JHNquiJ4KX"
      },
      "execution_count": null,
      "outputs": []
    },
    {
      "cell_type": "markdown",
      "source": [
        "#### Chart - 21 **Age certification vs Genre vs Imdb Score**"
      ],
      "metadata": {
        "id": "rNn4xlbETzCI"
      }
    },
    {
      "cell_type": "code",
      "source": [
        "print(df_exploded.columns[df_exploded.columns.duplicated()])"
      ],
      "metadata": {
        "id": "oGLNrjOfLNLg"
      },
      "execution_count": null,
      "outputs": []
    },
    {
      "cell_type": "code",
      "source": [
        "df_exploded = df_exploded.dropna(subset=['genres', 'imdb_score', 'age_certification'])\n"
      ],
      "metadata": {
        "id": "RaanDBLxLQxw"
      },
      "execution_count": null,
      "outputs": []
    },
    {
      "cell_type": "code",
      "source": [
        "# Visualization Chart 21\n",
        "plt.figure(figsize=(16, 8))\n",
        "sns.boxplot(data=df_exploded, x='genres', y='imdb_score', hue='age_certification')\n",
        "plt.xticks(rotation=90)\n",
        "plt.title('IMDb Score by Genre and Age Certification')\n",
        "plt.xlabel(\"Genre\")\n",
        "plt.ylabel(\"IMDb Score\")\n",
        "plt.tight_layout()\n",
        "plt.show()\n",
        "\n"
      ],
      "metadata": {
        "id": "a440YMbxTzCN"
      },
      "execution_count": null,
      "outputs": []
    },
    {
      "cell_type": "markdown",
      "source": [
        "##### **1. Why did you pick the specific chart?**"
      ],
      "metadata": {
        "id": "XAo3dnNYTzCO"
      }
    },
    {
      "cell_type": "markdown",
      "source": [
        "A box plot with hue was selected because it effectively visualizes how IMDb scores are distributed across multiple genres while simultaneously comparing different age certifications. It allows for multi-dimensional comparison (Genre vs IMDb Score, segmented by Age Certification).\n",
        "\n"
      ],
      "metadata": {
        "id": "25EIbQmGLzPm"
      }
    },
    {
      "cell_type": "markdown",
      "source": [
        "##### **2. What is/are the insight(s) found from the chart?**"
      ],
      "metadata": {
        "id": "z5bzFPuCTzCO"
      }
    },
    {
      "cell_type": "markdown",
      "source": [
        "*  Consistently Higher Ratings: Genres like Comedy, Family, Animation, and Fantasy with TV-Y7, TV-G, or PG ratings show generally higher median IMDb scores compared to their counterparts in adult ratings.\n",
        "\n",
        "*  More Variance in R/NC-17: Titles with R or NC-17 certifications show wider variability and more outliers, indicating inconsistency in content quality or audience reception.\n",
        "\n",
        "*  Certain genres like Horror, Thriller, and War with adult certifications tend to have lower medians and larger spread — suggesting these may be more hit-or-miss with viewers.\n",
        "\n",
        "*  Genres like Music, Sport, and Documentation also show significant variance in IMDb scores across age groups, hinting at niche preferences."
      ],
      "metadata": {
        "id": "fRicDlIiMA4q"
      }
    },
    {
      "cell_type": "markdown",
      "source": [
        "##### **3. Will the gained insights help creating a positive business impact?**\n",
        "Are there any insights that lead to negative growth? Justify with specific reason.\n"
      ],
      "metadata": {
        "id": "9O7dtY1NTzCO"
      }
    },
    {
      "cell_type": "markdown",
      "source": [
        "*  Content Targeting: Platforms can prioritize producing content in genres and age certifications with consistently high IMDb scores to improve user satisfaction.\n",
        "\n",
        "*  Marketing Strategy: Shows with family-friendly certifications and strong genres like Comedy or Animation may perform better with broader audiences, offering better returns on promotional campaigns.\n",
        "\n",
        "*  Quality Control: R-rated or adult-content producers can use this data to focus on quality improvement, as these titles often show high variance.\n",
        "\n",
        "**Negative Insights**\n",
        "\n",
        "*  Adult-rated titles (R, NC-17) in genres like Thriller, Horror, or Crime have lower and more volatile IMDb scores, indicating viewer dissatisfaction or inconsistent production quality.\n",
        "\n",
        "*  Continuing to produce large volumes in such combinations without quality assurance might negatively impact platform reputation and retention, especially if viewers equate these with low-quality content.\n",
        "\n"
      ],
      "metadata": {
        "id": "Puuu8dOMMJgS"
      }
    },
    {
      "cell_type": "markdown",
      "source": [
        "#### Chart - 22 **Production Country vs Type vs Count**"
      ],
      "metadata": {
        "id": "7oFApDT_IHcq"
      }
    },
    {
      "cell_type": "code",
      "source": [
        "# explode the list of countries into separate rows\n",
        "df_exploded_country = df.explode('production_countries')\n",
        "\n",
        "#  plot only the top 10 countries by frequency\n",
        "top_countries = df_exploded_country['production_countries'].value_counts().head(10).index\n",
        "\n",
        "plt.figure(figsize=(12, 6))\n",
        "sns.countplot(data=df_exploded_country[df_exploded_country['production_countries'].isin(top_countries)],\n",
        "              x='production_countries', hue='type')\n",
        "plt.title('Content Type Distribution by Top 10 Production Countries')\n",
        "plt.xticks(rotation=45)\n",
        "plt.xlabel(\"Production Countries\")\n",
        "plt.ylabel(\"Count\")\n",
        "plt.tight_layout()\n",
        "plt.show()\n",
        "\n"
      ],
      "metadata": {
        "id": "mJZACGk-IHct"
      },
      "execution_count": null,
      "outputs": []
    },
    {
      "cell_type": "markdown",
      "source": [
        "##### **1. Why did you pick the specific chart?**"
      ],
      "metadata": {
        "id": "--bRtApQIHcu"
      }
    },
    {
      "cell_type": "markdown",
      "source": [
        "A grouped bar chart (countplot with hue) is ideal for comparing distribution of content types (MOVIE vs SHOW) across different production countries. It helps to visualize differences in production preferences by country, revealing content trends globally."
      ],
      "metadata": {
        "id": "hcBdRllRN2WZ"
      }
    },
    {
      "cell_type": "markdown",
      "source": [
        "##### **2. What is/are the insight(s) found from the chart?**"
      ],
      "metadata": {
        "id": "1swiF6KmIHcv"
      }
    },
    {
      "cell_type": "markdown",
      "source": [
        "*  The United States (US) overwhelmingly dominates production, especially for movies, with over 70,000+ titles.\n",
        "\n",
        "*  Other top countries like India (IN), UK (GB), and Canada (CA) also show high movie production but significantly lower show counts.\n",
        "\n",
        "*  In all top 10 countries, movies consistently outnumb"
      ],
      "metadata": {
        "id": "IbT5o7rJN20k"
      }
    },
    {
      "cell_type": "markdown",
      "source": [
        "##### **3. Will the gained insights help creating a positive business impact?**\n",
        "Are there any insights that lead to negative growth? Justify with specific reason.\n"
      ],
      "metadata": {
        "id": "x4iHki3MIHcv"
      }
    },
    {
      "cell_type": "markdown",
      "source": [
        "*  Content strategy: Platforms like Amazon Prime can focus on acquiring more shows from underrepresented countries, especially where movie dominance is high, to diversify offerings.\n",
        "\n",
        "*  Localization and expansion: Countries like India and UK show strong movie presence, so Prime could invest in regional content or develop original shows targeting those markets.\n",
        "\n",
        "*  Licensing: Knowing the supply dominance from the US helps prioritize negotiations with US-based studios for blockbuster content.\n",
        "\n",
        "**Negative Insight**\n",
        "\n",
        "*  Over-reliance on US movie content could lead to cultural saturation and lack of diversity on the platform, which might not resonate well with global audiences.\n",
        "\n",
        "*  Very low production of shows in countries like Germany (DE), Japan (JP), Australia (AU) could point to a limited local appeal for series in those markets, risking low user retention unless addressed."
      ],
      "metadata": {
        "id": "R0A4y9rwN3kW"
      }
    },
    {
      "cell_type": "markdown",
      "source": [
        "#### Chart - 23 **Age certification vs Genre vs Imdb Score**"
      ],
      "metadata": {
        "id": "X8Gzl-tzIHl-"
      }
    },
    {
      "cell_type": "code",
      "source": [],
      "metadata": {
        "id": "nL4d6MSaIHl_"
      },
      "execution_count": null,
      "outputs": []
    },
    {
      "cell_type": "markdown",
      "source": [
        "##### **1. Why did you pick the specific chart?**"
      ],
      "metadata": {
        "id": "93Im4iDBIHmA"
      }
    },
    {
      "cell_type": "markdown",
      "source": [
        "##### **2. What is/are the insight(s) found from the chart?**"
      ],
      "metadata": {
        "id": "C3FE7_ecIHmB"
      }
    },
    {
      "cell_type": "markdown",
      "source": [
        "##### **3. Will the gained insights help creating a positive business impact?**\n",
        "Are there any insights that lead to negative growth? Justify with specific reason.\n"
      ],
      "metadata": {
        "id": "7BwktRGsIHmC"
      }
    },
    {
      "cell_type": "markdown",
      "source": [
        "#### Chart - 24 **Release Year vs Type vs IMDb Score**"
      ],
      "metadata": {
        "id": "AJvRWwO4IHt1"
      }
    },
    {
      "cell_type": "markdown",
      "source": [
        "##### **1. Why did you pick the specific chart?**"
      ],
      "metadata": {
        "id": "IHU__krsIHt3"
      }
    },
    {
      "cell_type": "markdown",
      "source": [
        "##### **2. What is/are the insight(s) found from the chart?**"
      ],
      "metadata": {
        "id": "zHvYH4DDIHt3"
      }
    },
    {
      "cell_type": "markdown",
      "source": [
        "##### **3. Will the gained insights help creating a positive business impact?**\n",
        "Are there any insights that lead to negative growth? Justify with specific reason.\n"
      ],
      "metadata": {
        "id": "cm_LfBLTIHt4"
      }
    },
    {
      "cell_type": "markdown",
      "source": [
        "#### Chart - 14 - Correlation Heatmap"
      ],
      "metadata": {
        "id": "NC_X3p0fY2L0"
      }
    },
    {
      "cell_type": "code",
      "source": [
        "# Correlation Heatmap visualization code"
      ],
      "metadata": {
        "id": "xyC9zolEZNRQ"
      },
      "execution_count": null,
      "outputs": []
    },
    {
      "cell_type": "markdown",
      "source": [
        "##### 1. Why did you pick the specific chart?"
      ],
      "metadata": {
        "id": "UV0SzAkaZNRQ"
      }
    },
    {
      "cell_type": "markdown",
      "source": [
        "Answer Here."
      ],
      "metadata": {
        "id": "DVPuT8LYZNRQ"
      }
    },
    {
      "cell_type": "markdown",
      "source": [
        "##### 2. What is/are the insight(s) found from the chart?"
      ],
      "metadata": {
        "id": "YPEH6qLeZNRQ"
      }
    },
    {
      "cell_type": "markdown",
      "source": [
        "Answer Here"
      ],
      "metadata": {
        "id": "bfSqtnDqZNRR"
      }
    },
    {
      "cell_type": "markdown",
      "source": [
        "#### Chart - 15 - Pair Plot"
      ],
      "metadata": {
        "id": "q29F0dvdveiT"
      }
    },
    {
      "cell_type": "code",
      "source": [
        "# Pair Plot visualization code"
      ],
      "metadata": {
        "id": "o58-TEIhveiU"
      },
      "execution_count": null,
      "outputs": []
    },
    {
      "cell_type": "markdown",
      "source": [
        "##### 1. Why did you pick the specific chart?"
      ],
      "metadata": {
        "id": "EXh0U9oCveiU"
      }
    },
    {
      "cell_type": "markdown",
      "source": [
        "Answer Here."
      ],
      "metadata": {
        "id": "eMmPjTByveiU"
      }
    },
    {
      "cell_type": "markdown",
      "source": [
        "##### 2. What is/are the insight(s) found from the chart?"
      ],
      "metadata": {
        "id": "22aHeOlLveiV"
      }
    },
    {
      "cell_type": "markdown",
      "source": [
        "Answer Here"
      ],
      "metadata": {
        "id": "uPQ8RGwHveiV"
      }
    },
    {
      "cell_type": "markdown",
      "source": [
        "## **5. Solution to Business Objective**"
      ],
      "metadata": {
        "id": "JcMwzZxoAimU"
      }
    },
    {
      "cell_type": "markdown",
      "source": [
        "#### What do you suggest the client to achieve Business Objective ?\n",
        "Explain Briefly."
      ],
      "metadata": {
        "id": "8G2x9gOozGDZ"
      }
    },
    {
      "cell_type": "markdown",
      "source": [
        "Answer Here."
      ],
      "metadata": {
        "id": "pASKb0qOza21"
      }
    },
    {
      "cell_type": "markdown",
      "source": [
        "# **Conclusion**"
      ],
      "metadata": {
        "id": "gCX9965dhzqZ"
      }
    },
    {
      "cell_type": "markdown",
      "source": [
        "Write the conclusion here."
      ],
      "metadata": {
        "id": "Fjb1IsQkh3yE"
      }
    },
    {
      "cell_type": "markdown",
      "source": [
        "### ***Hurrah! You have successfully completed your EDA Capstone Project !!!***"
      ],
      "metadata": {
        "id": "gIfDvo9L0UH2"
      }
    }
  ]
}